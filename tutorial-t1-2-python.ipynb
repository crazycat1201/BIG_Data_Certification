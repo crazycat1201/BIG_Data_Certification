{
 "cells": [
  {
   "cell_type": "markdown",
   "metadata": {
    "papermill": {
     "duration": 0.0205,
     "end_time": "2021-11-03T04:25:14.853618",
     "exception": false,
     "start_time": "2021-11-03T04:25:14.833118",
     "status": "completed"
    },
    "tags": []
   },
   "source": [
    "### 강의 영상 : https://youtu.be/Jh3rJaZlEg0"
   ]
  },
  {
   "cell_type": "markdown",
   "metadata": {
    "_cell_guid": "af4252ad-f822-45d3-b9c2-f26af7608ef4",
    "_uuid": "de34d146-4c69-4b7c-82f6-11d6287f6094",
    "execution": {
     "iopub.execute_input": "2021-10-07T06:47:44.152391Z",
     "iopub.status.busy": "2021-10-07T06:47:44.152048Z",
     "iopub.status.idle": "2021-10-07T06:47:44.18282Z",
     "shell.execute_reply": "2021-10-07T06:47:44.182194Z",
     "shell.execute_reply.started": "2021-10-07T06:47:44.152311Z"
    },
    "jupyter": {
     "outputs_hidden": false
    },
    "papermill": {
     "duration": 0.020175,
     "end_time": "2021-11-03T04:25:14.893902",
     "exception": false,
     "start_time": "2021-11-03T04:25:14.873727",
     "status": "completed"
    },
    "tags": []
   },
   "source": [
    "# 문제1\n",
    "- 데이터셋(basic1.csv)의 'f5' 컬럼을 기준으로 상위 10개의 데이터를 구하고,\n",
    "- 'f5'컬럼 10개 중 최소값으로 데이터를 대체한 후, \n",
    "- 'age'컬럼에서 80 이상인 데이터의 'f5 컬럼 평균값 구하기"
   ]
  },
  {
   "cell_type": "code",
   "execution_count": 25,
   "metadata": {},
   "outputs": [],
   "source": [
    "# 라이브러리 불러오기\n",
    "import pandas as pd\n",
    "import missingno as msno # 결측치 관련 라이브러리\n",
    "\n",
    "#ignore warnings\n",
    "import warnings\n",
    "warnings.filterwarnings('ignore')"
   ]
  },
  {
   "cell_type": "code",
   "execution_count": 2,
   "metadata": {
    "execution": {
     "iopub.execute_input": "2021-11-03T04:25:14.938501Z",
     "iopub.status.busy": "2021-11-03T04:25:14.937311Z",
     "iopub.status.idle": "2021-11-03T04:25:14.981272Z",
     "shell.execute_reply": "2021-11-03T04:25:14.981801Z",
     "shell.execute_reply.started": "2021-11-03T04:24:05.597809Z"
    },
    "papermill": {
     "duration": 0.06789,
     "end_time": "2021-11-03T04:25:14.982079",
     "exception": false,
     "start_time": "2021-11-03T04:25:14.914189",
     "status": "completed"
    },
    "scrolled": true,
    "tags": []
   },
   "outputs": [
    {
     "data": {
      "text/html": [
       "<div>\n",
       "<style scoped>\n",
       "    .dataframe tbody tr th:only-of-type {\n",
       "        vertical-align: middle;\n",
       "    }\n",
       "\n",
       "    .dataframe tbody tr th {\n",
       "        vertical-align: top;\n",
       "    }\n",
       "\n",
       "    .dataframe thead th {\n",
       "        text-align: right;\n",
       "    }\n",
       "</style>\n",
       "<table border=\"1\" class=\"dataframe\">\n",
       "  <thead>\n",
       "    <tr style=\"text-align: right;\">\n",
       "      <th></th>\n",
       "      <th>id</th>\n",
       "      <th>age</th>\n",
       "      <th>city</th>\n",
       "      <th>f1</th>\n",
       "      <th>f2</th>\n",
       "      <th>f3</th>\n",
       "      <th>f4</th>\n",
       "      <th>f5</th>\n",
       "    </tr>\n",
       "  </thead>\n",
       "  <tbody>\n",
       "    <tr>\n",
       "      <th>0</th>\n",
       "      <td>id01</td>\n",
       "      <td>2.0</td>\n",
       "      <td>서울</td>\n",
       "      <td>NaN</td>\n",
       "      <td>0</td>\n",
       "      <td>NaN</td>\n",
       "      <td>ENFJ</td>\n",
       "      <td>91.297791</td>\n",
       "    </tr>\n",
       "    <tr>\n",
       "      <th>1</th>\n",
       "      <td>id02</td>\n",
       "      <td>9.0</td>\n",
       "      <td>서울</td>\n",
       "      <td>70.0</td>\n",
       "      <td>1</td>\n",
       "      <td>NaN</td>\n",
       "      <td>ENFJ</td>\n",
       "      <td>60.339826</td>\n",
       "    </tr>\n",
       "    <tr>\n",
       "      <th>2</th>\n",
       "      <td>id03</td>\n",
       "      <td>27.0</td>\n",
       "      <td>서울</td>\n",
       "      <td>61.0</td>\n",
       "      <td>1</td>\n",
       "      <td>NaN</td>\n",
       "      <td>ISTJ</td>\n",
       "      <td>17.252986</td>\n",
       "    </tr>\n",
       "    <tr>\n",
       "      <th>3</th>\n",
       "      <td>id04</td>\n",
       "      <td>75.0</td>\n",
       "      <td>서울</td>\n",
       "      <td>NaN</td>\n",
       "      <td>2</td>\n",
       "      <td>NaN</td>\n",
       "      <td>INFP</td>\n",
       "      <td>52.667078</td>\n",
       "    </tr>\n",
       "    <tr>\n",
       "      <th>4</th>\n",
       "      <td>id05</td>\n",
       "      <td>24.0</td>\n",
       "      <td>서울</td>\n",
       "      <td>85.0</td>\n",
       "      <td>2</td>\n",
       "      <td>NaN</td>\n",
       "      <td>ISFJ</td>\n",
       "      <td>29.269869</td>\n",
       "    </tr>\n",
       "  </tbody>\n",
       "</table>\n",
       "</div>"
      ],
      "text/plain": [
       "     id   age city    f1  f2   f3    f4         f5\n",
       "0  id01   2.0   서울   NaN   0  NaN  ENFJ  91.297791\n",
       "1  id02   9.0   서울  70.0   1  NaN  ENFJ  60.339826\n",
       "2  id03  27.0   서울  61.0   1  NaN  ISTJ  17.252986\n",
       "3  id04  75.0   서울   NaN   2  NaN  INFP  52.667078\n",
       "4  id05  24.0   서울  85.0   2  NaN  ISFJ  29.269869"
      ]
     },
     "execution_count": 2,
     "metadata": {},
     "output_type": "execute_result"
    }
   ],
   "source": [
    "# 데이터 불러오기\n",
    "\n",
    "df = pd.read_csv(\"C:/Users/1/Dropbox/work/kaggle/빅데이터_분석기사/archive/basic1.csv\")\n",
    "df.head(5)"
   ]
  },
  {
   "cell_type": "markdown",
   "metadata": {},
   "source": [
    "## (1) 'f5' 컬럼을 기준으로 상위 10개의 데이터 구하기"
   ]
  },
  {
   "cell_type": "markdown",
   "metadata": {},
   "source": [
    "### 파이썬 pandas dataframe 정렬 : sort_values()"
   ]
  },
  {
   "cell_type": "code",
   "execution_count": 3,
   "metadata": {
    "scrolled": true
   },
   "outputs": [
    {
     "data": {
      "text/plain": [
       "14     9.796378\n",
       "6      9.796378\n",
       "90     9.796378\n",
       "44    13.049921\n",
       "54    13.049921\n",
       "        ...    \n",
       "98    97.381034\n",
       "76    98.429899\n",
       "97    98.429899\n",
       "10    98.429899\n",
       "9     98.429899\n",
       "Name: f5, Length: 100, dtype: float64"
      ]
     },
     "execution_count": 3,
     "metadata": {},
     "output_type": "execute_result"
    }
   ],
   "source": [
    "df['f5'].sort_values()"
   ]
  },
  {
   "cell_type": "code",
   "execution_count": 4,
   "metadata": {},
   "outputs": [
    {
     "data": {
      "text/html": [
       "<div>\n",
       "<style scoped>\n",
       "    .dataframe tbody tr th:only-of-type {\n",
       "        vertical-align: middle;\n",
       "    }\n",
       "\n",
       "    .dataframe tbody tr th {\n",
       "        vertical-align: top;\n",
       "    }\n",
       "\n",
       "    .dataframe thead th {\n",
       "        text-align: right;\n",
       "    }\n",
       "</style>\n",
       "<table border=\"1\" class=\"dataframe\">\n",
       "  <thead>\n",
       "    <tr style=\"text-align: right;\">\n",
       "      <th></th>\n",
       "      <th>id</th>\n",
       "      <th>age</th>\n",
       "      <th>city</th>\n",
       "      <th>f1</th>\n",
       "      <th>f2</th>\n",
       "      <th>f3</th>\n",
       "      <th>f4</th>\n",
       "      <th>f5</th>\n",
       "    </tr>\n",
       "  </thead>\n",
       "  <tbody>\n",
       "    <tr>\n",
       "      <th>14</th>\n",
       "      <td>id15</td>\n",
       "      <td>22.0</td>\n",
       "      <td>서울</td>\n",
       "      <td>67.0</td>\n",
       "      <td>1</td>\n",
       "      <td>NaN</td>\n",
       "      <td>ENTP</td>\n",
       "      <td>9.796378</td>\n",
       "    </tr>\n",
       "    <tr>\n",
       "      <th>6</th>\n",
       "      <td>id07</td>\n",
       "      <td>36.3</td>\n",
       "      <td>서울</td>\n",
       "      <td>60.0</td>\n",
       "      <td>1</td>\n",
       "      <td>NaN</td>\n",
       "      <td>ISFJ</td>\n",
       "      <td>9.796378</td>\n",
       "    </tr>\n",
       "    <tr>\n",
       "      <th>90</th>\n",
       "      <td>id91</td>\n",
       "      <td>6.0</td>\n",
       "      <td>경기</td>\n",
       "      <td>72.0</td>\n",
       "      <td>0</td>\n",
       "      <td>NaN</td>\n",
       "      <td>INTP</td>\n",
       "      <td>9.796378</td>\n",
       "    </tr>\n",
       "    <tr>\n",
       "      <th>44</th>\n",
       "      <td>id45</td>\n",
       "      <td>97.0</td>\n",
       "      <td>대구</td>\n",
       "      <td>88.0</td>\n",
       "      <td>0</td>\n",
       "      <td>NaN</td>\n",
       "      <td>ENFJ</td>\n",
       "      <td>13.049921</td>\n",
       "    </tr>\n",
       "    <tr>\n",
       "      <th>54</th>\n",
       "      <td>id55</td>\n",
       "      <td>75.0</td>\n",
       "      <td>대구</td>\n",
       "      <td>63.0</td>\n",
       "      <td>2</td>\n",
       "      <td>NaN</td>\n",
       "      <td>ENTP</td>\n",
       "      <td>13.049921</td>\n",
       "    </tr>\n",
       "    <tr>\n",
       "      <th>...</th>\n",
       "      <td>...</td>\n",
       "      <td>...</td>\n",
       "      <td>...</td>\n",
       "      <td>...</td>\n",
       "      <td>...</td>\n",
       "      <td>...</td>\n",
       "      <td>...</td>\n",
       "      <td>...</td>\n",
       "    </tr>\n",
       "    <tr>\n",
       "      <th>98</th>\n",
       "      <td>id99</td>\n",
       "      <td>1.0</td>\n",
       "      <td>경기</td>\n",
       "      <td>47.0</td>\n",
       "      <td>0</td>\n",
       "      <td>NaN</td>\n",
       "      <td>ESFJ</td>\n",
       "      <td>97.381034</td>\n",
       "    </tr>\n",
       "    <tr>\n",
       "      <th>76</th>\n",
       "      <td>id77</td>\n",
       "      <td>77.0</td>\n",
       "      <td>경기</td>\n",
       "      <td>31.0</td>\n",
       "      <td>0</td>\n",
       "      <td>NaN</td>\n",
       "      <td>INFP</td>\n",
       "      <td>98.429899</td>\n",
       "    </tr>\n",
       "    <tr>\n",
       "      <th>97</th>\n",
       "      <td>id98</td>\n",
       "      <td>39.0</td>\n",
       "      <td>경기</td>\n",
       "      <td>58.0</td>\n",
       "      <td>2</td>\n",
       "      <td>NaN</td>\n",
       "      <td>INFP</td>\n",
       "      <td>98.429899</td>\n",
       "    </tr>\n",
       "    <tr>\n",
       "      <th>10</th>\n",
       "      <td>id11</td>\n",
       "      <td>40.0</td>\n",
       "      <td>서울</td>\n",
       "      <td>68.0</td>\n",
       "      <td>0</td>\n",
       "      <td>NaN</td>\n",
       "      <td>ENFP</td>\n",
       "      <td>98.429899</td>\n",
       "    </tr>\n",
       "    <tr>\n",
       "      <th>9</th>\n",
       "      <td>id10</td>\n",
       "      <td>95.0</td>\n",
       "      <td>서울</td>\n",
       "      <td>74.0</td>\n",
       "      <td>1</td>\n",
       "      <td>NaN</td>\n",
       "      <td>ISFP</td>\n",
       "      <td>98.429899</td>\n",
       "    </tr>\n",
       "  </tbody>\n",
       "</table>\n",
       "<p>100 rows × 8 columns</p>\n",
       "</div>"
      ],
      "text/plain": [
       "      id   age city    f1  f2   f3    f4         f5\n",
       "14  id15  22.0   서울  67.0   1  NaN  ENTP   9.796378\n",
       "6   id07  36.3   서울  60.0   1  NaN  ISFJ   9.796378\n",
       "90  id91   6.0   경기  72.0   0  NaN  INTP   9.796378\n",
       "44  id45  97.0   대구  88.0   0  NaN  ENFJ  13.049921\n",
       "54  id55  75.0   대구  63.0   2  NaN  ENTP  13.049921\n",
       "..   ...   ...  ...   ...  ..  ...   ...        ...\n",
       "98  id99   1.0   경기  47.0   0  NaN  ESFJ  97.381034\n",
       "76  id77  77.0   경기  31.0   0  NaN  INFP  98.429899\n",
       "97  id98  39.0   경기  58.0   2  NaN  INFP  98.429899\n",
       "10  id11  40.0   서울  68.0   0  NaN  ENFP  98.429899\n",
       "9   id10  95.0   서울  74.0   1  NaN  ISFP  98.429899\n",
       "\n",
       "[100 rows x 8 columns]"
      ]
     },
     "execution_count": 4,
     "metadata": {},
     "output_type": "execute_result"
    }
   ],
   "source": [
    "df.sort_values('f5')"
   ]
  },
  {
   "cell_type": "code",
   "execution_count": 5,
   "metadata": {},
   "outputs": [
    {
     "data": {
      "text/html": [
       "<div>\n",
       "<style scoped>\n",
       "    .dataframe tbody tr th:only-of-type {\n",
       "        vertical-align: middle;\n",
       "    }\n",
       "\n",
       "    .dataframe tbody tr th {\n",
       "        vertical-align: top;\n",
       "    }\n",
       "\n",
       "    .dataframe thead th {\n",
       "        text-align: right;\n",
       "    }\n",
       "</style>\n",
       "<table border=\"1\" class=\"dataframe\">\n",
       "  <thead>\n",
       "    <tr style=\"text-align: right;\">\n",
       "      <th></th>\n",
       "      <th>id</th>\n",
       "      <th>age</th>\n",
       "      <th>city</th>\n",
       "      <th>f1</th>\n",
       "      <th>f2</th>\n",
       "      <th>f3</th>\n",
       "      <th>f4</th>\n",
       "      <th>f5</th>\n",
       "    </tr>\n",
       "  </thead>\n",
       "  <tbody>\n",
       "    <tr>\n",
       "      <th>14</th>\n",
       "      <td>id15</td>\n",
       "      <td>22.0</td>\n",
       "      <td>서울</td>\n",
       "      <td>67.0</td>\n",
       "      <td>1</td>\n",
       "      <td>NaN</td>\n",
       "      <td>ENTP</td>\n",
       "      <td>9.796378</td>\n",
       "    </tr>\n",
       "    <tr>\n",
       "      <th>6</th>\n",
       "      <td>id07</td>\n",
       "      <td>36.3</td>\n",
       "      <td>서울</td>\n",
       "      <td>60.0</td>\n",
       "      <td>1</td>\n",
       "      <td>NaN</td>\n",
       "      <td>ISFJ</td>\n",
       "      <td>9.796378</td>\n",
       "    </tr>\n",
       "    <tr>\n",
       "      <th>90</th>\n",
       "      <td>id91</td>\n",
       "      <td>6.0</td>\n",
       "      <td>경기</td>\n",
       "      <td>72.0</td>\n",
       "      <td>0</td>\n",
       "      <td>NaN</td>\n",
       "      <td>INTP</td>\n",
       "      <td>9.796378</td>\n",
       "    </tr>\n",
       "    <tr>\n",
       "      <th>44</th>\n",
       "      <td>id45</td>\n",
       "      <td>97.0</td>\n",
       "      <td>대구</td>\n",
       "      <td>88.0</td>\n",
       "      <td>0</td>\n",
       "      <td>NaN</td>\n",
       "      <td>ENFJ</td>\n",
       "      <td>13.049921</td>\n",
       "    </tr>\n",
       "    <tr>\n",
       "      <th>54</th>\n",
       "      <td>id55</td>\n",
       "      <td>75.0</td>\n",
       "      <td>대구</td>\n",
       "      <td>63.0</td>\n",
       "      <td>2</td>\n",
       "      <td>NaN</td>\n",
       "      <td>ENTP</td>\n",
       "      <td>13.049921</td>\n",
       "    </tr>\n",
       "    <tr>\n",
       "      <th>...</th>\n",
       "      <td>...</td>\n",
       "      <td>...</td>\n",
       "      <td>...</td>\n",
       "      <td>...</td>\n",
       "      <td>...</td>\n",
       "      <td>...</td>\n",
       "      <td>...</td>\n",
       "      <td>...</td>\n",
       "    </tr>\n",
       "    <tr>\n",
       "      <th>98</th>\n",
       "      <td>id99</td>\n",
       "      <td>1.0</td>\n",
       "      <td>경기</td>\n",
       "      <td>47.0</td>\n",
       "      <td>0</td>\n",
       "      <td>NaN</td>\n",
       "      <td>ESFJ</td>\n",
       "      <td>97.381034</td>\n",
       "    </tr>\n",
       "    <tr>\n",
       "      <th>76</th>\n",
       "      <td>id77</td>\n",
       "      <td>77.0</td>\n",
       "      <td>경기</td>\n",
       "      <td>31.0</td>\n",
       "      <td>0</td>\n",
       "      <td>NaN</td>\n",
       "      <td>INFP</td>\n",
       "      <td>98.429899</td>\n",
       "    </tr>\n",
       "    <tr>\n",
       "      <th>97</th>\n",
       "      <td>id98</td>\n",
       "      <td>39.0</td>\n",
       "      <td>경기</td>\n",
       "      <td>58.0</td>\n",
       "      <td>2</td>\n",
       "      <td>NaN</td>\n",
       "      <td>INFP</td>\n",
       "      <td>98.429899</td>\n",
       "    </tr>\n",
       "    <tr>\n",
       "      <th>10</th>\n",
       "      <td>id11</td>\n",
       "      <td>40.0</td>\n",
       "      <td>서울</td>\n",
       "      <td>68.0</td>\n",
       "      <td>0</td>\n",
       "      <td>NaN</td>\n",
       "      <td>ENFP</td>\n",
       "      <td>98.429899</td>\n",
       "    </tr>\n",
       "    <tr>\n",
       "      <th>9</th>\n",
       "      <td>id10</td>\n",
       "      <td>95.0</td>\n",
       "      <td>서울</td>\n",
       "      <td>74.0</td>\n",
       "      <td>1</td>\n",
       "      <td>NaN</td>\n",
       "      <td>ISFP</td>\n",
       "      <td>98.429899</td>\n",
       "    </tr>\n",
       "  </tbody>\n",
       "</table>\n",
       "<p>100 rows × 8 columns</p>\n",
       "</div>"
      ],
      "text/plain": [
       "      id   age city    f1  f2   f3    f4         f5\n",
       "14  id15  22.0   서울  67.0   1  NaN  ENTP   9.796378\n",
       "6   id07  36.3   서울  60.0   1  NaN  ISFJ   9.796378\n",
       "90  id91   6.0   경기  72.0   0  NaN  INTP   9.796378\n",
       "44  id45  97.0   대구  88.0   0  NaN  ENFJ  13.049921\n",
       "54  id55  75.0   대구  63.0   2  NaN  ENTP  13.049921\n",
       "..   ...   ...  ...   ...  ..  ...   ...        ...\n",
       "98  id99   1.0   경기  47.0   0  NaN  ESFJ  97.381034\n",
       "76  id77  77.0   경기  31.0   0  NaN  INFP  98.429899\n",
       "97  id98  39.0   경기  58.0   2  NaN  INFP  98.429899\n",
       "10  id11  40.0   서울  68.0   0  NaN  ENFP  98.429899\n",
       "9   id10  95.0   서울  74.0   1  NaN  ISFP  98.429899\n",
       "\n",
       "[100 rows x 8 columns]"
      ]
     },
     "execution_count": 5,
     "metadata": {},
     "output_type": "execute_result"
    }
   ],
   "source": [
    "df.sort_values('f5', ascending = True)"
   ]
  },
  {
   "cell_type": "code",
   "execution_count": 6,
   "metadata": {
    "scrolled": false
   },
   "outputs": [
    {
     "data": {
      "text/html": [
       "<div>\n",
       "<style scoped>\n",
       "    .dataframe tbody tr th:only-of-type {\n",
       "        vertical-align: middle;\n",
       "    }\n",
       "\n",
       "    .dataframe tbody tr th {\n",
       "        vertical-align: top;\n",
       "    }\n",
       "\n",
       "    .dataframe thead th {\n",
       "        text-align: right;\n",
       "    }\n",
       "</style>\n",
       "<table border=\"1\" class=\"dataframe\">\n",
       "  <thead>\n",
       "    <tr style=\"text-align: right;\">\n",
       "      <th></th>\n",
       "      <th>id</th>\n",
       "      <th>age</th>\n",
       "      <th>city</th>\n",
       "      <th>f1</th>\n",
       "      <th>f2</th>\n",
       "      <th>f3</th>\n",
       "      <th>f4</th>\n",
       "      <th>f5</th>\n",
       "    </tr>\n",
       "  </thead>\n",
       "  <tbody>\n",
       "    <tr>\n",
       "      <th>10</th>\n",
       "      <td>id11</td>\n",
       "      <td>40.0</td>\n",
       "      <td>서울</td>\n",
       "      <td>68.0</td>\n",
       "      <td>0</td>\n",
       "      <td>NaN</td>\n",
       "      <td>ENFP</td>\n",
       "      <td>98.429899</td>\n",
       "    </tr>\n",
       "    <tr>\n",
       "      <th>97</th>\n",
       "      <td>id98</td>\n",
       "      <td>39.0</td>\n",
       "      <td>경기</td>\n",
       "      <td>58.0</td>\n",
       "      <td>2</td>\n",
       "      <td>NaN</td>\n",
       "      <td>INFP</td>\n",
       "      <td>98.429899</td>\n",
       "    </tr>\n",
       "    <tr>\n",
       "      <th>9</th>\n",
       "      <td>id10</td>\n",
       "      <td>95.0</td>\n",
       "      <td>서울</td>\n",
       "      <td>74.0</td>\n",
       "      <td>1</td>\n",
       "      <td>NaN</td>\n",
       "      <td>ISFP</td>\n",
       "      <td>98.429899</td>\n",
       "    </tr>\n",
       "    <tr>\n",
       "      <th>76</th>\n",
       "      <td>id77</td>\n",
       "      <td>77.0</td>\n",
       "      <td>경기</td>\n",
       "      <td>31.0</td>\n",
       "      <td>0</td>\n",
       "      <td>NaN</td>\n",
       "      <td>INFP</td>\n",
       "      <td>98.429899</td>\n",
       "    </tr>\n",
       "    <tr>\n",
       "      <th>98</th>\n",
       "      <td>id99</td>\n",
       "      <td>1.0</td>\n",
       "      <td>경기</td>\n",
       "      <td>47.0</td>\n",
       "      <td>0</td>\n",
       "      <td>NaN</td>\n",
       "      <td>ESFJ</td>\n",
       "      <td>97.381034</td>\n",
       "    </tr>\n",
       "    <tr>\n",
       "      <th>...</th>\n",
       "      <td>...</td>\n",
       "      <td>...</td>\n",
       "      <td>...</td>\n",
       "      <td>...</td>\n",
       "      <td>...</td>\n",
       "      <td>...</td>\n",
       "      <td>...</td>\n",
       "      <td>...</td>\n",
       "    </tr>\n",
       "    <tr>\n",
       "      <th>54</th>\n",
       "      <td>id55</td>\n",
       "      <td>75.0</td>\n",
       "      <td>대구</td>\n",
       "      <td>63.0</td>\n",
       "      <td>2</td>\n",
       "      <td>NaN</td>\n",
       "      <td>ENTP</td>\n",
       "      <td>13.049921</td>\n",
       "    </tr>\n",
       "    <tr>\n",
       "      <th>35</th>\n",
       "      <td>id36</td>\n",
       "      <td>68.0</td>\n",
       "      <td>부산</td>\n",
       "      <td>77.0</td>\n",
       "      <td>1</td>\n",
       "      <td>NaN</td>\n",
       "      <td>INTP</td>\n",
       "      <td>13.049921</td>\n",
       "    </tr>\n",
       "    <tr>\n",
       "      <th>6</th>\n",
       "      <td>id07</td>\n",
       "      <td>36.3</td>\n",
       "      <td>서울</td>\n",
       "      <td>60.0</td>\n",
       "      <td>1</td>\n",
       "      <td>NaN</td>\n",
       "      <td>ISFJ</td>\n",
       "      <td>9.796378</td>\n",
       "    </tr>\n",
       "    <tr>\n",
       "      <th>90</th>\n",
       "      <td>id91</td>\n",
       "      <td>6.0</td>\n",
       "      <td>경기</td>\n",
       "      <td>72.0</td>\n",
       "      <td>0</td>\n",
       "      <td>NaN</td>\n",
       "      <td>INTP</td>\n",
       "      <td>9.796378</td>\n",
       "    </tr>\n",
       "    <tr>\n",
       "      <th>14</th>\n",
       "      <td>id15</td>\n",
       "      <td>22.0</td>\n",
       "      <td>서울</td>\n",
       "      <td>67.0</td>\n",
       "      <td>1</td>\n",
       "      <td>NaN</td>\n",
       "      <td>ENTP</td>\n",
       "      <td>9.796378</td>\n",
       "    </tr>\n",
       "  </tbody>\n",
       "</table>\n",
       "<p>100 rows × 8 columns</p>\n",
       "</div>"
      ],
      "text/plain": [
       "      id   age city    f1  f2   f3    f4         f5\n",
       "10  id11  40.0   서울  68.0   0  NaN  ENFP  98.429899\n",
       "97  id98  39.0   경기  58.0   2  NaN  INFP  98.429899\n",
       "9   id10  95.0   서울  74.0   1  NaN  ISFP  98.429899\n",
       "76  id77  77.0   경기  31.0   0  NaN  INFP  98.429899\n",
       "98  id99   1.0   경기  47.0   0  NaN  ESFJ  97.381034\n",
       "..   ...   ...  ...   ...  ..  ...   ...        ...\n",
       "54  id55  75.0   대구  63.0   2  NaN  ENTP  13.049921\n",
       "35  id36  68.0   부산  77.0   1  NaN  INTP  13.049921\n",
       "6   id07  36.3   서울  60.0   1  NaN  ISFJ   9.796378\n",
       "90  id91   6.0   경기  72.0   0  NaN  INTP   9.796378\n",
       "14  id15  22.0   서울  67.0   1  NaN  ENTP   9.796378\n",
       "\n",
       "[100 rows x 8 columns]"
      ]
     },
     "execution_count": 6,
     "metadata": {},
     "output_type": "execute_result"
    }
   ],
   "source": [
    "df.sort_values('f5', ascending = False)"
   ]
  },
  {
   "cell_type": "code",
   "execution_count": 7,
   "metadata": {
    "scrolled": false
   },
   "outputs": [
    {
     "data": {
      "text/html": [
       "<div>\n",
       "<style scoped>\n",
       "    .dataframe tbody tr th:only-of-type {\n",
       "        vertical-align: middle;\n",
       "    }\n",
       "\n",
       "    .dataframe tbody tr th {\n",
       "        vertical-align: top;\n",
       "    }\n",
       "\n",
       "    .dataframe thead th {\n",
       "        text-align: right;\n",
       "    }\n",
       "</style>\n",
       "<table border=\"1\" class=\"dataframe\">\n",
       "  <thead>\n",
       "    <tr style=\"text-align: right;\">\n",
       "      <th></th>\n",
       "      <th>id</th>\n",
       "      <th>age</th>\n",
       "      <th>city</th>\n",
       "      <th>f1</th>\n",
       "      <th>f2</th>\n",
       "      <th>f3</th>\n",
       "      <th>f4</th>\n",
       "      <th>f5</th>\n",
       "    </tr>\n",
       "  </thead>\n",
       "  <tbody>\n",
       "    <tr>\n",
       "      <th>90</th>\n",
       "      <td>id91</td>\n",
       "      <td>6.0</td>\n",
       "      <td>경기</td>\n",
       "      <td>72.0</td>\n",
       "      <td>0</td>\n",
       "      <td>NaN</td>\n",
       "      <td>INTP</td>\n",
       "      <td>9.796378</td>\n",
       "    </tr>\n",
       "    <tr>\n",
       "      <th>6</th>\n",
       "      <td>id07</td>\n",
       "      <td>36.3</td>\n",
       "      <td>서울</td>\n",
       "      <td>60.0</td>\n",
       "      <td>1</td>\n",
       "      <td>NaN</td>\n",
       "      <td>ISFJ</td>\n",
       "      <td>9.796378</td>\n",
       "    </tr>\n",
       "    <tr>\n",
       "      <th>14</th>\n",
       "      <td>id15</td>\n",
       "      <td>22.0</td>\n",
       "      <td>서울</td>\n",
       "      <td>67.0</td>\n",
       "      <td>1</td>\n",
       "      <td>NaN</td>\n",
       "      <td>ENTP</td>\n",
       "      <td>9.796378</td>\n",
       "    </tr>\n",
       "    <tr>\n",
       "      <th>31</th>\n",
       "      <td>id32</td>\n",
       "      <td>25.0</td>\n",
       "      <td>부산</td>\n",
       "      <td>64.0</td>\n",
       "      <td>0</td>\n",
       "      <td>vip</td>\n",
       "      <td>ISFJ</td>\n",
       "      <td>13.049921</td>\n",
       "    </tr>\n",
       "    <tr>\n",
       "      <th>44</th>\n",
       "      <td>id45</td>\n",
       "      <td>97.0</td>\n",
       "      <td>대구</td>\n",
       "      <td>88.0</td>\n",
       "      <td>0</td>\n",
       "      <td>NaN</td>\n",
       "      <td>ENFJ</td>\n",
       "      <td>13.049921</td>\n",
       "    </tr>\n",
       "    <tr>\n",
       "      <th>...</th>\n",
       "      <td>...</td>\n",
       "      <td>...</td>\n",
       "      <td>...</td>\n",
       "      <td>...</td>\n",
       "      <td>...</td>\n",
       "      <td>...</td>\n",
       "      <td>...</td>\n",
       "      <td>...</td>\n",
       "    </tr>\n",
       "    <tr>\n",
       "      <th>91</th>\n",
       "      <td>id92</td>\n",
       "      <td>97.0</td>\n",
       "      <td>경기</td>\n",
       "      <td>78.0</td>\n",
       "      <td>1</td>\n",
       "      <td>NaN</td>\n",
       "      <td>INFP</td>\n",
       "      <td>97.381034</td>\n",
       "    </tr>\n",
       "    <tr>\n",
       "      <th>10</th>\n",
       "      <td>id11</td>\n",
       "      <td>40.0</td>\n",
       "      <td>서울</td>\n",
       "      <td>68.0</td>\n",
       "      <td>0</td>\n",
       "      <td>NaN</td>\n",
       "      <td>ENFP</td>\n",
       "      <td>98.429899</td>\n",
       "    </tr>\n",
       "    <tr>\n",
       "      <th>76</th>\n",
       "      <td>id77</td>\n",
       "      <td>77.0</td>\n",
       "      <td>경기</td>\n",
       "      <td>31.0</td>\n",
       "      <td>0</td>\n",
       "      <td>NaN</td>\n",
       "      <td>INFP</td>\n",
       "      <td>98.429899</td>\n",
       "    </tr>\n",
       "    <tr>\n",
       "      <th>9</th>\n",
       "      <td>id10</td>\n",
       "      <td>95.0</td>\n",
       "      <td>서울</td>\n",
       "      <td>74.0</td>\n",
       "      <td>1</td>\n",
       "      <td>NaN</td>\n",
       "      <td>ISFP</td>\n",
       "      <td>98.429899</td>\n",
       "    </tr>\n",
       "    <tr>\n",
       "      <th>97</th>\n",
       "      <td>id98</td>\n",
       "      <td>39.0</td>\n",
       "      <td>경기</td>\n",
       "      <td>58.0</td>\n",
       "      <td>2</td>\n",
       "      <td>NaN</td>\n",
       "      <td>INFP</td>\n",
       "      <td>98.429899</td>\n",
       "    </tr>\n",
       "  </tbody>\n",
       "</table>\n",
       "<p>100 rows × 8 columns</p>\n",
       "</div>"
      ],
      "text/plain": [
       "      id   age city    f1  f2   f3    f4         f5\n",
       "90  id91   6.0   경기  72.0   0  NaN  INTP   9.796378\n",
       "6   id07  36.3   서울  60.0   1  NaN  ISFJ   9.796378\n",
       "14  id15  22.0   서울  67.0   1  NaN  ENTP   9.796378\n",
       "31  id32  25.0   부산  64.0   0  vip  ISFJ  13.049921\n",
       "44  id45  97.0   대구  88.0   0  NaN  ENFJ  13.049921\n",
       "..   ...   ...  ...   ...  ..  ...   ...        ...\n",
       "91  id92  97.0   경기  78.0   1  NaN  INFP  97.381034\n",
       "10  id11  40.0   서울  68.0   0  NaN  ENFP  98.429899\n",
       "76  id77  77.0   경기  31.0   0  NaN  INFP  98.429899\n",
       "9   id10  95.0   서울  74.0   1  NaN  ISFP  98.429899\n",
       "97  id98  39.0   경기  58.0   2  NaN  INFP  98.429899\n",
       "\n",
       "[100 rows x 8 columns]"
      ]
     },
     "execution_count": 7,
     "metadata": {},
     "output_type": "execute_result"
    }
   ],
   "source": [
    "df.sort_values(['f5','f2'], ascending = True)"
   ]
  },
  {
   "cell_type": "markdown",
   "metadata": {},
   "source": [
    "- List를 활용하여 정렬 기준을 여러 개 사용할 수 있음"
   ]
  },
  {
   "cell_type": "markdown",
   "metadata": {},
   "source": [
    "# ---------------------------------------------------"
   ]
  },
  {
   "cell_type": "code",
   "execution_count": 8,
   "metadata": {
    "execution": {
     "iopub.execute_input": "2021-11-03T04:25:15.030971Z",
     "iopub.status.busy": "2021-11-03T04:25:15.030355Z",
     "iopub.status.idle": "2021-11-03T04:25:15.043677Z",
     "shell.execute_reply": "2021-11-03T04:25:15.044170Z",
     "shell.execute_reply.started": "2021-11-03T04:24:05.662281Z"
    },
    "papermill": {
     "duration": 0.04122,
     "end_time": "2021-11-03T04:25:15.044330",
     "exception": false,
     "start_time": "2021-11-03T04:25:15.003110",
     "status": "completed"
    },
    "scrolled": true,
    "tags": []
   },
   "outputs": [
    {
     "data": {
      "text/html": [
       "<div>\n",
       "<style scoped>\n",
       "    .dataframe tbody tr th:only-of-type {\n",
       "        vertical-align: middle;\n",
       "    }\n",
       "\n",
       "    .dataframe tbody tr th {\n",
       "        vertical-align: top;\n",
       "    }\n",
       "\n",
       "    .dataframe thead th {\n",
       "        text-align: right;\n",
       "    }\n",
       "</style>\n",
       "<table border=\"1\" class=\"dataframe\">\n",
       "  <thead>\n",
       "    <tr style=\"text-align: right;\">\n",
       "      <th></th>\n",
       "      <th>id</th>\n",
       "      <th>age</th>\n",
       "      <th>city</th>\n",
       "      <th>f1</th>\n",
       "      <th>f2</th>\n",
       "      <th>f3</th>\n",
       "      <th>f4</th>\n",
       "      <th>f5</th>\n",
       "    </tr>\n",
       "  </thead>\n",
       "  <tbody>\n",
       "    <tr>\n",
       "      <th>10</th>\n",
       "      <td>id11</td>\n",
       "      <td>40.0</td>\n",
       "      <td>서울</td>\n",
       "      <td>68.0</td>\n",
       "      <td>0</td>\n",
       "      <td>NaN</td>\n",
       "      <td>ENFP</td>\n",
       "      <td>98.429899</td>\n",
       "    </tr>\n",
       "    <tr>\n",
       "      <th>97</th>\n",
       "      <td>id98</td>\n",
       "      <td>39.0</td>\n",
       "      <td>경기</td>\n",
       "      <td>58.0</td>\n",
       "      <td>2</td>\n",
       "      <td>NaN</td>\n",
       "      <td>INFP</td>\n",
       "      <td>98.429899</td>\n",
       "    </tr>\n",
       "    <tr>\n",
       "      <th>9</th>\n",
       "      <td>id10</td>\n",
       "      <td>95.0</td>\n",
       "      <td>서울</td>\n",
       "      <td>74.0</td>\n",
       "      <td>1</td>\n",
       "      <td>NaN</td>\n",
       "      <td>ISFP</td>\n",
       "      <td>98.429899</td>\n",
       "    </tr>\n",
       "    <tr>\n",
       "      <th>76</th>\n",
       "      <td>id77</td>\n",
       "      <td>77.0</td>\n",
       "      <td>경기</td>\n",
       "      <td>31.0</td>\n",
       "      <td>0</td>\n",
       "      <td>NaN</td>\n",
       "      <td>INFP</td>\n",
       "      <td>98.429899</td>\n",
       "    </tr>\n",
       "    <tr>\n",
       "      <th>98</th>\n",
       "      <td>id99</td>\n",
       "      <td>1.0</td>\n",
       "      <td>경기</td>\n",
       "      <td>47.0</td>\n",
       "      <td>0</td>\n",
       "      <td>NaN</td>\n",
       "      <td>ESFJ</td>\n",
       "      <td>97.381034</td>\n",
       "    </tr>\n",
       "    <tr>\n",
       "      <th>91</th>\n",
       "      <td>id92</td>\n",
       "      <td>97.0</td>\n",
       "      <td>경기</td>\n",
       "      <td>78.0</td>\n",
       "      <td>1</td>\n",
       "      <td>NaN</td>\n",
       "      <td>INFP</td>\n",
       "      <td>97.381034</td>\n",
       "    </tr>\n",
       "    <tr>\n",
       "      <th>86</th>\n",
       "      <td>id87</td>\n",
       "      <td>19.0</td>\n",
       "      <td>경기</td>\n",
       "      <td>NaN</td>\n",
       "      <td>1</td>\n",
       "      <td>NaN</td>\n",
       "      <td>ISFP</td>\n",
       "      <td>97.381034</td>\n",
       "    </tr>\n",
       "    <tr>\n",
       "      <th>71</th>\n",
       "      <td>id72</td>\n",
       "      <td>8.0</td>\n",
       "      <td>경기</td>\n",
       "      <td>97.0</td>\n",
       "      <td>0</td>\n",
       "      <td>NaN</td>\n",
       "      <td>ESTJ</td>\n",
       "      <td>97.381034</td>\n",
       "    </tr>\n",
       "    <tr>\n",
       "      <th>11</th>\n",
       "      <td>id12</td>\n",
       "      <td>20.0</td>\n",
       "      <td>서울</td>\n",
       "      <td>NaN</td>\n",
       "      <td>0</td>\n",
       "      <td>NaN</td>\n",
       "      <td>ESTP</td>\n",
       "      <td>91.297791</td>\n",
       "    </tr>\n",
       "    <tr>\n",
       "      <th>19</th>\n",
       "      <td>id20</td>\n",
       "      <td>11.0</td>\n",
       "      <td>서울</td>\n",
       "      <td>51.0</td>\n",
       "      <td>1</td>\n",
       "      <td>NaN</td>\n",
       "      <td>INTJ</td>\n",
       "      <td>91.297791</td>\n",
       "    </tr>\n",
       "  </tbody>\n",
       "</table>\n",
       "</div>"
      ],
      "text/plain": [
       "      id   age city    f1  f2   f3    f4         f5\n",
       "10  id11  40.0   서울  68.0   0  NaN  ENFP  98.429899\n",
       "97  id98  39.0   경기  58.0   2  NaN  INFP  98.429899\n",
       "9   id10  95.0   서울  74.0   1  NaN  ISFP  98.429899\n",
       "76  id77  77.0   경기  31.0   0  NaN  INFP  98.429899\n",
       "98  id99   1.0   경기  47.0   0  NaN  ESFJ  97.381034\n",
       "91  id92  97.0   경기  78.0   1  NaN  INFP  97.381034\n",
       "86  id87  19.0   경기   NaN   1  NaN  ISFP  97.381034\n",
       "71  id72   8.0   경기  97.0   0  NaN  ESTJ  97.381034\n",
       "11  id12  20.0   서울   NaN   0  NaN  ESTP  91.297791\n",
       "19  id20  11.0   서울  51.0   1  NaN  INTJ  91.297791"
      ]
     },
     "execution_count": 8,
     "metadata": {},
     "output_type": "execute_result"
    }
   ],
   "source": [
    "# f5컬럼을 기준으로 내림차순 정렬\n",
    "# 'f5' 컬럼을 기준으로 상위 10개의 데이터 추출\n",
    "df = df.sort_values('f5', ascending=False)\n",
    "df.head(10)"
   ]
  },
  {
   "cell_type": "markdown",
   "metadata": {},
   "source": [
    "## (2) 'f5'컬럼 10개 중 최소값으로 데이터를 대체"
   ]
  },
  {
   "cell_type": "code",
   "execution_count": 9,
   "metadata": {},
   "outputs": [
    {
     "data": {
      "text/plain": [
       "10    98.429899\n",
       "97    98.429899\n",
       "9     98.429899\n",
       "76    98.429899\n",
       "98    97.381034\n",
       "91    97.381034\n",
       "86    97.381034\n",
       "71    97.381034\n",
       "11    91.297791\n",
       "19    91.297791\n",
       "Name: f5, dtype: float64"
      ]
     },
     "execution_count": 9,
     "metadata": {},
     "output_type": "execute_result"
    }
   ],
   "source": [
    "df['f5'][:10]"
   ]
  },
  {
   "cell_type": "code",
   "execution_count": 10,
   "metadata": {
    "execution": {
     "iopub.execute_input": "2021-11-03T04:25:15.089301Z",
     "iopub.status.busy": "2021-11-03T04:25:15.088719Z",
     "iopub.status.idle": "2021-11-03T04:25:15.093281Z",
     "shell.execute_reply": "2021-11-03T04:25:15.093806Z",
     "shell.execute_reply.started": "2021-11-03T04:24:05.687234Z"
    },
    "papermill": {
     "duration": 0.028474,
     "end_time": "2021-11-03T04:25:15.093971",
     "exception": false,
     "start_time": "2021-11-03T04:25:15.065497",
     "status": "completed"
    },
    "tags": []
   },
   "outputs": [
    {
     "data": {
      "text/plain": [
       "91.29779092"
      ]
     },
     "execution_count": 10,
     "metadata": {},
     "output_type": "execute_result"
    }
   ],
   "source": [
    "# 최소값 찾기\n",
    "min = df['f5'][:10].min()\n",
    "# min = 91.297791\n",
    "min"
   ]
  },
  {
   "cell_type": "code",
   "execution_count": 11,
   "metadata": {
    "execution": {
     "iopub.execute_input": "2021-11-03T04:25:15.139389Z",
     "iopub.status.busy": "2021-11-03T04:25:15.138823Z",
     "iopub.status.idle": "2021-11-03T04:25:15.153743Z",
     "shell.execute_reply": "2021-11-03T04:25:15.154312Z",
     "shell.execute_reply.started": "2021-11-03T04:24:05.694377Z"
    },
    "papermill": {
     "duration": 0.039149,
     "end_time": "2021-11-03T04:25:15.154514",
     "exception": false,
     "start_time": "2021-11-03T04:25:15.115365",
     "status": "completed"
    },
    "scrolled": true,
    "tags": []
   },
   "outputs": [
    {
     "data": {
      "text/html": [
       "<div>\n",
       "<style scoped>\n",
       "    .dataframe tbody tr th:only-of-type {\n",
       "        vertical-align: middle;\n",
       "    }\n",
       "\n",
       "    .dataframe tbody tr th {\n",
       "        vertical-align: top;\n",
       "    }\n",
       "\n",
       "    .dataframe thead th {\n",
       "        text-align: right;\n",
       "    }\n",
       "</style>\n",
       "<table border=\"1\" class=\"dataframe\">\n",
       "  <thead>\n",
       "    <tr style=\"text-align: right;\">\n",
       "      <th></th>\n",
       "      <th>id</th>\n",
       "      <th>age</th>\n",
       "      <th>city</th>\n",
       "      <th>f1</th>\n",
       "      <th>f2</th>\n",
       "      <th>f3</th>\n",
       "      <th>f4</th>\n",
       "      <th>f5</th>\n",
       "    </tr>\n",
       "  </thead>\n",
       "  <tbody>\n",
       "    <tr>\n",
       "      <th>10</th>\n",
       "      <td>id11</td>\n",
       "      <td>40.0</td>\n",
       "      <td>서울</td>\n",
       "      <td>68.0</td>\n",
       "      <td>0</td>\n",
       "      <td>NaN</td>\n",
       "      <td>ENFP</td>\n",
       "      <td>91.297791</td>\n",
       "    </tr>\n",
       "    <tr>\n",
       "      <th>97</th>\n",
       "      <td>id98</td>\n",
       "      <td>39.0</td>\n",
       "      <td>경기</td>\n",
       "      <td>58.0</td>\n",
       "      <td>2</td>\n",
       "      <td>NaN</td>\n",
       "      <td>INFP</td>\n",
       "      <td>91.297791</td>\n",
       "    </tr>\n",
       "    <tr>\n",
       "      <th>9</th>\n",
       "      <td>id10</td>\n",
       "      <td>95.0</td>\n",
       "      <td>서울</td>\n",
       "      <td>74.0</td>\n",
       "      <td>1</td>\n",
       "      <td>NaN</td>\n",
       "      <td>ISFP</td>\n",
       "      <td>91.297791</td>\n",
       "    </tr>\n",
       "    <tr>\n",
       "      <th>76</th>\n",
       "      <td>id77</td>\n",
       "      <td>77.0</td>\n",
       "      <td>경기</td>\n",
       "      <td>31.0</td>\n",
       "      <td>0</td>\n",
       "      <td>NaN</td>\n",
       "      <td>INFP</td>\n",
       "      <td>91.297791</td>\n",
       "    </tr>\n",
       "    <tr>\n",
       "      <th>98</th>\n",
       "      <td>id99</td>\n",
       "      <td>1.0</td>\n",
       "      <td>경기</td>\n",
       "      <td>47.0</td>\n",
       "      <td>0</td>\n",
       "      <td>NaN</td>\n",
       "      <td>ESFJ</td>\n",
       "      <td>91.297791</td>\n",
       "    </tr>\n",
       "    <tr>\n",
       "      <th>91</th>\n",
       "      <td>id92</td>\n",
       "      <td>97.0</td>\n",
       "      <td>경기</td>\n",
       "      <td>78.0</td>\n",
       "      <td>1</td>\n",
       "      <td>NaN</td>\n",
       "      <td>INFP</td>\n",
       "      <td>91.297791</td>\n",
       "    </tr>\n",
       "    <tr>\n",
       "      <th>86</th>\n",
       "      <td>id87</td>\n",
       "      <td>19.0</td>\n",
       "      <td>경기</td>\n",
       "      <td>NaN</td>\n",
       "      <td>1</td>\n",
       "      <td>NaN</td>\n",
       "      <td>ISFP</td>\n",
       "      <td>91.297791</td>\n",
       "    </tr>\n",
       "    <tr>\n",
       "      <th>71</th>\n",
       "      <td>id72</td>\n",
       "      <td>8.0</td>\n",
       "      <td>경기</td>\n",
       "      <td>97.0</td>\n",
       "      <td>0</td>\n",
       "      <td>NaN</td>\n",
       "      <td>ESTJ</td>\n",
       "      <td>91.297791</td>\n",
       "    </tr>\n",
       "    <tr>\n",
       "      <th>11</th>\n",
       "      <td>id12</td>\n",
       "      <td>20.0</td>\n",
       "      <td>서울</td>\n",
       "      <td>NaN</td>\n",
       "      <td>0</td>\n",
       "      <td>NaN</td>\n",
       "      <td>ESTP</td>\n",
       "      <td>91.297791</td>\n",
       "    </tr>\n",
       "    <tr>\n",
       "      <th>19</th>\n",
       "      <td>id20</td>\n",
       "      <td>11.0</td>\n",
       "      <td>서울</td>\n",
       "      <td>51.0</td>\n",
       "      <td>1</td>\n",
       "      <td>NaN</td>\n",
       "      <td>INTJ</td>\n",
       "      <td>91.297791</td>\n",
       "    </tr>\n",
       "  </tbody>\n",
       "</table>\n",
       "</div>"
      ],
      "text/plain": [
       "      id   age city    f1  f2   f3    f4         f5\n",
       "10  id11  40.0   서울  68.0   0  NaN  ENFP  91.297791\n",
       "97  id98  39.0   경기  58.0   2  NaN  INFP  91.297791\n",
       "9   id10  95.0   서울  74.0   1  NaN  ISFP  91.297791\n",
       "76  id77  77.0   경기  31.0   0  NaN  INFP  91.297791\n",
       "98  id99   1.0   경기  47.0   0  NaN  ESFJ  91.297791\n",
       "91  id92  97.0   경기  78.0   1  NaN  INFP  91.297791\n",
       "86  id87  19.0   경기   NaN   1  NaN  ISFP  91.297791\n",
       "71  id72   8.0   경기  97.0   0  NaN  ESTJ  91.297791\n",
       "11  id12  20.0   서울   NaN   0  NaN  ESTP  91.297791\n",
       "19  id20  11.0   서울  51.0   1  NaN  INTJ  91.297791"
      ]
     },
     "execution_count": 11,
     "metadata": {},
     "output_type": "execute_result"
    }
   ],
   "source": [
    "df['f5'][:10] = min\n",
    "df.head(10)"
   ]
  },
  {
   "cell_type": "markdown",
   "metadata": {},
   "source": [
    "## (3) 'age'컬럼에서 80 이상인 데이터의 'f5 컬럼 평균값 구하기"
   ]
  },
  {
   "cell_type": "code",
   "execution_count": 12,
   "metadata": {
    "scrolled": true
   },
   "outputs": [
    {
     "data": {
      "text/html": [
       "<div>\n",
       "<style scoped>\n",
       "    .dataframe tbody tr th:only-of-type {\n",
       "        vertical-align: middle;\n",
       "    }\n",
       "\n",
       "    .dataframe tbody tr th {\n",
       "        vertical-align: top;\n",
       "    }\n",
       "\n",
       "    .dataframe thead th {\n",
       "        text-align: right;\n",
       "    }\n",
       "</style>\n",
       "<table border=\"1\" class=\"dataframe\">\n",
       "  <thead>\n",
       "    <tr style=\"text-align: right;\">\n",
       "      <th></th>\n",
       "      <th>id</th>\n",
       "      <th>age</th>\n",
       "      <th>city</th>\n",
       "      <th>f1</th>\n",
       "      <th>f2</th>\n",
       "      <th>f3</th>\n",
       "      <th>f4</th>\n",
       "      <th>f5</th>\n",
       "    </tr>\n",
       "  </thead>\n",
       "  <tbody>\n",
       "    <tr>\n",
       "      <th>23</th>\n",
       "      <td>id24</td>\n",
       "      <td>80.0</td>\n",
       "      <td>부산</td>\n",
       "      <td>44.0</td>\n",
       "      <td>0</td>\n",
       "      <td>NaN</td>\n",
       "      <td>INFJ</td>\n",
       "      <td>73.586397</td>\n",
       "    </tr>\n",
       "    <tr>\n",
       "      <th>40</th>\n",
       "      <td>id41</td>\n",
       "      <td>81.0</td>\n",
       "      <td>대구</td>\n",
       "      <td>55.0</td>\n",
       "      <td>0</td>\n",
       "      <td>NaN</td>\n",
       "      <td>ENFJ</td>\n",
       "      <td>37.113739</td>\n",
       "    </tr>\n",
       "    <tr>\n",
       "      <th>84</th>\n",
       "      <td>id85</td>\n",
       "      <td>83.6</td>\n",
       "      <td>경기</td>\n",
       "      <td>55.0</td>\n",
       "      <td>0</td>\n",
       "      <td>NaN</td>\n",
       "      <td>INFJ</td>\n",
       "      <td>80.138280</td>\n",
       "    </tr>\n",
       "    <tr>\n",
       "      <th>93</th>\n",
       "      <td>id94</td>\n",
       "      <td>84.0</td>\n",
       "      <td>경기</td>\n",
       "      <td>NaN</td>\n",
       "      <td>1</td>\n",
       "      <td>NaN</td>\n",
       "      <td>ESTJ</td>\n",
       "      <td>90.496999</td>\n",
       "    </tr>\n",
       "    <tr>\n",
       "      <th>30</th>\n",
       "      <td>id31</td>\n",
       "      <td>86.0</td>\n",
       "      <td>부산</td>\n",
       "      <td>77.0</td>\n",
       "      <td>0</td>\n",
       "      <td>NaN</td>\n",
       "      <td>ESFJ</td>\n",
       "      <td>73.586397</td>\n",
       "    </tr>\n",
       "    <tr>\n",
       "      <th>49</th>\n",
       "      <td>id50</td>\n",
       "      <td>86.0</td>\n",
       "      <td>대구</td>\n",
       "      <td>78.0</td>\n",
       "      <td>1</td>\n",
       "      <td>NaN</td>\n",
       "      <td>ENFP</td>\n",
       "      <td>60.339826</td>\n",
       "    </tr>\n",
       "    <tr>\n",
       "      <th>80</th>\n",
       "      <td>id81</td>\n",
       "      <td>86.0</td>\n",
       "      <td>경기</td>\n",
       "      <td>50.0</td>\n",
       "      <td>1</td>\n",
       "      <td>NaN</td>\n",
       "      <td>ISFJ</td>\n",
       "      <td>37.113739</td>\n",
       "    </tr>\n",
       "    <tr>\n",
       "      <th>37</th>\n",
       "      <td>id38</td>\n",
       "      <td>87.0</td>\n",
       "      <td>부산</td>\n",
       "      <td>NaN</td>\n",
       "      <td>1</td>\n",
       "      <td>NaN</td>\n",
       "      <td>ESTP</td>\n",
       "      <td>83.685380</td>\n",
       "    </tr>\n",
       "    <tr>\n",
       "      <th>60</th>\n",
       "      <td>id61</td>\n",
       "      <td>87.0</td>\n",
       "      <td>경기</td>\n",
       "      <td>62.0</td>\n",
       "      <td>2</td>\n",
       "      <td>NaN</td>\n",
       "      <td>INTP</td>\n",
       "      <td>69.730313</td>\n",
       "    </tr>\n",
       "    <tr>\n",
       "      <th>65</th>\n",
       "      <td>id66</td>\n",
       "      <td>87.0</td>\n",
       "      <td>경기</td>\n",
       "      <td>NaN</td>\n",
       "      <td>1</td>\n",
       "      <td>NaN</td>\n",
       "      <td>ISFP</td>\n",
       "      <td>17.252986</td>\n",
       "    </tr>\n",
       "  </tbody>\n",
       "</table>\n",
       "</div>"
      ],
      "text/plain": [
       "      id   age city    f1  f2   f3    f4         f5\n",
       "23  id24  80.0   부산  44.0   0  NaN  INFJ  73.586397\n",
       "40  id41  81.0   대구  55.0   0  NaN  ENFJ  37.113739\n",
       "84  id85  83.6   경기  55.0   0  NaN  INFJ  80.138280\n",
       "93  id94  84.0   경기   NaN   1  NaN  ESTJ  90.496999\n",
       "30  id31  86.0   부산  77.0   0  NaN  ESFJ  73.586397\n",
       "49  id50  86.0   대구  78.0   1  NaN  ENFP  60.339826\n",
       "80  id81  86.0   경기  50.0   1  NaN  ISFJ  37.113739\n",
       "37  id38  87.0   부산   NaN   1  NaN  ESTP  83.685380\n",
       "60  id61  87.0   경기  62.0   2  NaN  INTP  69.730313\n",
       "65  id66  87.0   경기   NaN   1  NaN  ISFP  17.252986"
      ]
     },
     "execution_count": 12,
     "metadata": {},
     "output_type": "execute_result"
    }
   ],
   "source": [
    "df[df['age']>=80].sort_values('age', ascending=True).head(10)"
   ]
  },
  {
   "cell_type": "code",
   "execution_count": 13,
   "metadata": {},
   "outputs": [
    {
     "data": {
      "text/plain": [
       "9     91.297791\n",
       "91    91.297791\n",
       "93    90.496999\n",
       "51    90.496999\n",
       "37    83.685380\n",
       "84    80.138280\n",
       "62    73.586397\n",
       "72    73.586397\n",
       "30    73.586397\n",
       "23    73.586397\n",
       "Name: f5, dtype: float64"
      ]
     },
     "execution_count": 13,
     "metadata": {},
     "output_type": "execute_result"
    }
   ],
   "source": [
    "df[df['age']>=80]['f5'].head(10)"
   ]
  },
  {
   "cell_type": "code",
   "execution_count": 14,
   "metadata": {
    "execution": {
     "iopub.execute_input": "2021-11-03T04:25:15.205303Z",
     "iopub.status.busy": "2021-11-03T04:25:15.201780Z",
     "iopub.status.idle": "2021-11-03T04:25:15.208544Z",
     "shell.execute_reply": "2021-11-03T04:25:15.209017Z",
     "shell.execute_reply.started": "2021-11-03T04:24:05.722600Z"
    },
    "papermill": {
     "duration": 0.032172,
     "end_time": "2021-11-03T04:25:15.209189",
     "exception": false,
     "start_time": "2021-11-03T04:25:15.177017",
     "status": "completed"
    },
    "tags": []
   },
   "outputs": [
    {
     "name": "stdout",
     "output_type": "stream",
     "text": [
      "62.497747125217394\n"
     ]
    }
   ],
   "source": [
    "# 80세 이상의 f5컬럼 평균\n",
    "print(df[df['age']>=80]['f5'].mean())"
   ]
  },
  {
   "cell_type": "markdown",
   "metadata": {
    "papermill": {
     "duration": 0.015216,
     "end_time": "2021-11-03T04:25:15.241329",
     "exception": false,
     "start_time": "2021-11-03T04:25:15.226113",
     "status": "completed"
    },
    "tags": []
   },
   "source": [
    "# 문제2\n",
    "- 데이터셋(basic1.csv)의 앞에서 순서대로 70% 데이터만 활용해서,\n",
    "- 'f1'컬럼 결측치를 중앙값으로 채우기 전후의 표준편차를 구하고\n",
    "- 두 표준편차 차이 계산하기"
   ]
  },
  {
   "cell_type": "code",
   "execution_count": 15,
   "metadata": {
    "execution": {
     "iopub.execute_input": "2021-11-03T04:25:15.275567Z",
     "iopub.status.busy": "2021-11-03T04:25:15.275060Z",
     "iopub.status.idle": "2021-11-03T04:25:15.282297Z",
     "shell.execute_reply": "2021-11-03T04:25:15.282686Z",
     "shell.execute_reply.started": "2021-11-03T04:24:05.730945Z"
    },
    "papermill": {
     "duration": 0.025742,
     "end_time": "2021-11-03T04:25:15.282812",
     "exception": false,
     "start_time": "2021-11-03T04:25:15.257070",
     "status": "completed"
    },
    "scrolled": true,
    "tags": []
   },
   "outputs": [
    {
     "data": {
      "text/html": [
       "<div>\n",
       "<style scoped>\n",
       "    .dataframe tbody tr th:only-of-type {\n",
       "        vertical-align: middle;\n",
       "    }\n",
       "\n",
       "    .dataframe tbody tr th {\n",
       "        vertical-align: top;\n",
       "    }\n",
       "\n",
       "    .dataframe thead th {\n",
       "        text-align: right;\n",
       "    }\n",
       "</style>\n",
       "<table border=\"1\" class=\"dataframe\">\n",
       "  <thead>\n",
       "    <tr style=\"text-align: right;\">\n",
       "      <th></th>\n",
       "      <th>id</th>\n",
       "      <th>age</th>\n",
       "      <th>city</th>\n",
       "      <th>f1</th>\n",
       "      <th>f2</th>\n",
       "      <th>f3</th>\n",
       "      <th>f4</th>\n",
       "      <th>f5</th>\n",
       "    </tr>\n",
       "  </thead>\n",
       "  <tbody>\n",
       "    <tr>\n",
       "      <th>0</th>\n",
       "      <td>id01</td>\n",
       "      <td>2.0</td>\n",
       "      <td>서울</td>\n",
       "      <td>NaN</td>\n",
       "      <td>0</td>\n",
       "      <td>NaN</td>\n",
       "      <td>ENFJ</td>\n",
       "      <td>91.297791</td>\n",
       "    </tr>\n",
       "    <tr>\n",
       "      <th>1</th>\n",
       "      <td>id02</td>\n",
       "      <td>9.0</td>\n",
       "      <td>서울</td>\n",
       "      <td>70.0</td>\n",
       "      <td>1</td>\n",
       "      <td>NaN</td>\n",
       "      <td>ENFJ</td>\n",
       "      <td>60.339826</td>\n",
       "    </tr>\n",
       "    <tr>\n",
       "      <th>2</th>\n",
       "      <td>id03</td>\n",
       "      <td>27.0</td>\n",
       "      <td>서울</td>\n",
       "      <td>61.0</td>\n",
       "      <td>1</td>\n",
       "      <td>NaN</td>\n",
       "      <td>ISTJ</td>\n",
       "      <td>17.252986</td>\n",
       "    </tr>\n",
       "    <tr>\n",
       "      <th>3</th>\n",
       "      <td>id04</td>\n",
       "      <td>75.0</td>\n",
       "      <td>서울</td>\n",
       "      <td>NaN</td>\n",
       "      <td>2</td>\n",
       "      <td>NaN</td>\n",
       "      <td>INFP</td>\n",
       "      <td>52.667078</td>\n",
       "    </tr>\n",
       "    <tr>\n",
       "      <th>4</th>\n",
       "      <td>id05</td>\n",
       "      <td>24.0</td>\n",
       "      <td>서울</td>\n",
       "      <td>85.0</td>\n",
       "      <td>2</td>\n",
       "      <td>NaN</td>\n",
       "      <td>ISFJ</td>\n",
       "      <td>29.269869</td>\n",
       "    </tr>\n",
       "  </tbody>\n",
       "</table>\n",
       "</div>"
      ],
      "text/plain": [
       "     id   age city    f1  f2   f3    f4         f5\n",
       "0  id01   2.0   서울   NaN   0  NaN  ENFJ  91.297791\n",
       "1  id02   9.0   서울  70.0   1  NaN  ENFJ  60.339826\n",
       "2  id03  27.0   서울  61.0   1  NaN  ISTJ  17.252986\n",
       "3  id04  75.0   서울   NaN   2  NaN  INFP  52.667078\n",
       "4  id05  24.0   서울  85.0   2  NaN  ISFJ  29.269869"
      ]
     },
     "execution_count": 15,
     "metadata": {},
     "output_type": "execute_result"
    }
   ],
   "source": [
    "# 라이브러리 및 데이터 불러오기\n",
    "import pandas as pd\n",
    "import numpy as np\n",
    "\n",
    "df = pd.read_csv(\"C:/Users/1/Dropbox/work/kaggle/빅데이터_분석기사/archive/basic1.csv\")\n",
    "df.head(5)"
   ]
  },
  {
   "cell_type": "markdown",
   "metadata": {},
   "source": [
    "## (1) 데이터 나누기"
   ]
  },
  {
   "cell_type": "code",
   "execution_count": 16,
   "metadata": {},
   "outputs": [
    {
     "data": {
      "text/plain": [
       "100"
      ]
     },
     "execution_count": 16,
     "metadata": {},
     "output_type": "execute_result"
    }
   ],
   "source": [
    "len(df)"
   ]
  },
  {
   "cell_type": "code",
   "execution_count": 18,
   "metadata": {
    "execution": {
     "iopub.execute_input": "2021-11-03T04:25:15.319816Z",
     "iopub.status.busy": "2021-11-03T04:25:15.315792Z",
     "iopub.status.idle": "2021-11-03T04:25:15.331553Z",
     "shell.execute_reply": "2021-11-03T04:25:15.331991Z",
     "shell.execute_reply.started": "2021-11-03T04:24:05.745986Z"
    },
    "papermill": {
     "duration": 0.033951,
     "end_time": "2021-11-03T04:25:15.332120",
     "exception": false,
     "start_time": "2021-11-03T04:25:15.298169",
     "status": "completed"
    },
    "scrolled": true,
    "tags": []
   },
   "outputs": [
    {
     "data": {
      "text/html": [
       "<div>\n",
       "<style scoped>\n",
       "    .dataframe tbody tr th:only-of-type {\n",
       "        vertical-align: middle;\n",
       "    }\n",
       "\n",
       "    .dataframe tbody tr th {\n",
       "        vertical-align: top;\n",
       "    }\n",
       "\n",
       "    .dataframe thead th {\n",
       "        text-align: right;\n",
       "    }\n",
       "</style>\n",
       "<table border=\"1\" class=\"dataframe\">\n",
       "  <thead>\n",
       "    <tr style=\"text-align: right;\">\n",
       "      <th></th>\n",
       "      <th>id</th>\n",
       "      <th>age</th>\n",
       "      <th>city</th>\n",
       "      <th>f1</th>\n",
       "      <th>f2</th>\n",
       "      <th>f3</th>\n",
       "      <th>f4</th>\n",
       "      <th>f5</th>\n",
       "    </tr>\n",
       "  </thead>\n",
       "  <tbody>\n",
       "    <tr>\n",
       "      <th>65</th>\n",
       "      <td>id66</td>\n",
       "      <td>87.0</td>\n",
       "      <td>경기</td>\n",
       "      <td>NaN</td>\n",
       "      <td>1</td>\n",
       "      <td>NaN</td>\n",
       "      <td>ISFP</td>\n",
       "      <td>17.252986</td>\n",
       "    </tr>\n",
       "    <tr>\n",
       "      <th>66</th>\n",
       "      <td>id67</td>\n",
       "      <td>66.0</td>\n",
       "      <td>경기</td>\n",
       "      <td>52.0</td>\n",
       "      <td>1</td>\n",
       "      <td>NaN</td>\n",
       "      <td>ISFJ</td>\n",
       "      <td>73.586397</td>\n",
       "    </tr>\n",
       "    <tr>\n",
       "      <th>67</th>\n",
       "      <td>id68</td>\n",
       "      <td>35.0</td>\n",
       "      <td>경기</td>\n",
       "      <td>45.0</td>\n",
       "      <td>2</td>\n",
       "      <td>NaN</td>\n",
       "      <td>ISFP</td>\n",
       "      <td>67.886373</td>\n",
       "    </tr>\n",
       "    <tr>\n",
       "      <th>68</th>\n",
       "      <td>id69</td>\n",
       "      <td>75.0</td>\n",
       "      <td>경기</td>\n",
       "      <td>85.0</td>\n",
       "      <td>0</td>\n",
       "      <td>NaN</td>\n",
       "      <td>ESTJ</td>\n",
       "      <td>69.730313</td>\n",
       "    </tr>\n",
       "    <tr>\n",
       "      <th>69</th>\n",
       "      <td>id70</td>\n",
       "      <td>-9.0</td>\n",
       "      <td>경기</td>\n",
       "      <td>96.0</td>\n",
       "      <td>1</td>\n",
       "      <td>NaN</td>\n",
       "      <td>ISTP</td>\n",
       "      <td>48.431184</td>\n",
       "    </tr>\n",
       "  </tbody>\n",
       "</table>\n",
       "</div>"
      ],
      "text/plain": [
       "      id   age city    f1  f2   f3    f4         f5\n",
       "65  id66  87.0   경기   NaN   1  NaN  ISFP  17.252986\n",
       "66  id67  66.0   경기  52.0   1  NaN  ISFJ  73.586397\n",
       "67  id68  35.0   경기  45.0   2  NaN  ISFP  67.886373\n",
       "68  id69  75.0   경기  85.0   0  NaN  ESTJ  69.730313\n",
       "69  id70  -9.0   경기  96.0   1  NaN  ISTP  48.431184"
      ]
     },
     "execution_count": 18,
     "metadata": {},
     "output_type": "execute_result"
    }
   ],
   "source": [
    "# 데이터 나누기 방법1\n",
    "data70 = df.iloc[:70]\n",
    "data30 = df.iloc[70:]\n",
    "\n",
    "data70.tail()"
   ]
  },
  {
   "cell_type": "code",
   "execution_count": 19,
   "metadata": {},
   "outputs": [
    {
     "data": {
      "text/plain": [
       "100"
      ]
     },
     "execution_count": 19,
     "metadata": {},
     "output_type": "execute_result"
    }
   ],
   "source": [
    "len(data70) + len(data30)"
   ]
  },
  {
   "cell_type": "markdown",
   "metadata": {},
   "source": [
    "### [심화학습] 데이터 나누기 방법2"
   ]
  },
  {
   "cell_type": "code",
   "execution_count": 20,
   "metadata": {},
   "outputs": [
    {
     "data": {
      "text/html": [
       "<div>\n",
       "<style scoped>\n",
       "    .dataframe tbody tr th:only-of-type {\n",
       "        vertical-align: middle;\n",
       "    }\n",
       "\n",
       "    .dataframe tbody tr th {\n",
       "        vertical-align: top;\n",
       "    }\n",
       "\n",
       "    .dataframe thead th {\n",
       "        text-align: right;\n",
       "    }\n",
       "</style>\n",
       "<table border=\"1\" class=\"dataframe\">\n",
       "  <thead>\n",
       "    <tr style=\"text-align: right;\">\n",
       "      <th></th>\n",
       "      <th>id</th>\n",
       "      <th>age</th>\n",
       "      <th>city</th>\n",
       "      <th>f1</th>\n",
       "      <th>f2</th>\n",
       "      <th>f3</th>\n",
       "      <th>f4</th>\n",
       "      <th>f5</th>\n",
       "    </tr>\n",
       "  </thead>\n",
       "  <tbody>\n",
       "    <tr>\n",
       "      <th>65</th>\n",
       "      <td>id66</td>\n",
       "      <td>87.0</td>\n",
       "      <td>경기</td>\n",
       "      <td>NaN</td>\n",
       "      <td>1</td>\n",
       "      <td>NaN</td>\n",
       "      <td>ISFP</td>\n",
       "      <td>17.252986</td>\n",
       "    </tr>\n",
       "    <tr>\n",
       "      <th>66</th>\n",
       "      <td>id67</td>\n",
       "      <td>66.0</td>\n",
       "      <td>경기</td>\n",
       "      <td>52.0</td>\n",
       "      <td>1</td>\n",
       "      <td>NaN</td>\n",
       "      <td>ISFJ</td>\n",
       "      <td>73.586397</td>\n",
       "    </tr>\n",
       "    <tr>\n",
       "      <th>67</th>\n",
       "      <td>id68</td>\n",
       "      <td>35.0</td>\n",
       "      <td>경기</td>\n",
       "      <td>45.0</td>\n",
       "      <td>2</td>\n",
       "      <td>NaN</td>\n",
       "      <td>ISFP</td>\n",
       "      <td>67.886373</td>\n",
       "    </tr>\n",
       "    <tr>\n",
       "      <th>68</th>\n",
       "      <td>id69</td>\n",
       "      <td>75.0</td>\n",
       "      <td>경기</td>\n",
       "      <td>85.0</td>\n",
       "      <td>0</td>\n",
       "      <td>NaN</td>\n",
       "      <td>ESTJ</td>\n",
       "      <td>69.730313</td>\n",
       "    </tr>\n",
       "    <tr>\n",
       "      <th>69</th>\n",
       "      <td>id70</td>\n",
       "      <td>-9.0</td>\n",
       "      <td>경기</td>\n",
       "      <td>96.0</td>\n",
       "      <td>1</td>\n",
       "      <td>NaN</td>\n",
       "      <td>ISTP</td>\n",
       "      <td>48.431184</td>\n",
       "    </tr>\n",
       "  </tbody>\n",
       "</table>\n",
       "</div>"
      ],
      "text/plain": [
       "      id   age city    f1  f2   f3    f4         f5\n",
       "65  id66  87.0   경기   NaN   1  NaN  ISFP  17.252986\n",
       "66  id67  66.0   경기  52.0   1  NaN  ISFJ  73.586397\n",
       "67  id68  35.0   경기  45.0   2  NaN  ISFP  67.886373\n",
       "68  id69  75.0   경기  85.0   0  NaN  ESTJ  69.730313\n",
       "69  id70  -9.0   경기  96.0   1  NaN  ISTP  48.431184"
      ]
     },
     "execution_count": 20,
     "metadata": {},
     "output_type": "execute_result"
    }
   ],
   "source": [
    "data_70, data_30 = np.split(df, [int(0.7*len(df))])\n",
    "data_70.tail()"
   ]
  },
  {
   "cell_type": "markdown",
   "metadata": {},
   "source": [
    "### [심화학습] 데이터 나누기 방법3 (랜덤 샘플링)"
   ]
  },
  {
   "cell_type": "code",
   "execution_count": 21,
   "metadata": {},
   "outputs": [
    {
     "data": {
      "text/html": [
       "<div>\n",
       "<style scoped>\n",
       "    .dataframe tbody tr th:only-of-type {\n",
       "        vertical-align: middle;\n",
       "    }\n",
       "\n",
       "    .dataframe tbody tr th {\n",
       "        vertical-align: top;\n",
       "    }\n",
       "\n",
       "    .dataframe thead th {\n",
       "        text-align: right;\n",
       "    }\n",
       "</style>\n",
       "<table border=\"1\" class=\"dataframe\">\n",
       "  <thead>\n",
       "    <tr style=\"text-align: right;\">\n",
       "      <th></th>\n",
       "      <th>id</th>\n",
       "      <th>age</th>\n",
       "      <th>city</th>\n",
       "      <th>f1</th>\n",
       "      <th>f2</th>\n",
       "      <th>f3</th>\n",
       "      <th>f4</th>\n",
       "      <th>f5</th>\n",
       "    </tr>\n",
       "  </thead>\n",
       "  <tbody>\n",
       "    <tr>\n",
       "      <th>64</th>\n",
       "      <td>id65</td>\n",
       "      <td>26.5</td>\n",
       "      <td>경기</td>\n",
       "      <td>NaN</td>\n",
       "      <td>0</td>\n",
       "      <td>NaN</td>\n",
       "      <td>ISFP</td>\n",
       "      <td>91.297791</td>\n",
       "    </tr>\n",
       "    <tr>\n",
       "      <th>91</th>\n",
       "      <td>id92</td>\n",
       "      <td>97.0</td>\n",
       "      <td>경기</td>\n",
       "      <td>78.0</td>\n",
       "      <td>1</td>\n",
       "      <td>NaN</td>\n",
       "      <td>INFP</td>\n",
       "      <td>97.381034</td>\n",
       "    </tr>\n",
       "    <tr>\n",
       "      <th>42</th>\n",
       "      <td>id43</td>\n",
       "      <td>23.0</td>\n",
       "      <td>대구</td>\n",
       "      <td>60.0</td>\n",
       "      <td>0</td>\n",
       "      <td>NaN</td>\n",
       "      <td>ISTP</td>\n",
       "      <td>29.269869</td>\n",
       "    </tr>\n",
       "    <tr>\n",
       "      <th>52</th>\n",
       "      <td>id53</td>\n",
       "      <td>52.0</td>\n",
       "      <td>대구</td>\n",
       "      <td>50.0</td>\n",
       "      <td>0</td>\n",
       "      <td>NaN</td>\n",
       "      <td>ESTP</td>\n",
       "      <td>20.129444</td>\n",
       "    </tr>\n",
       "    <tr>\n",
       "      <th>13</th>\n",
       "      <td>id14</td>\n",
       "      <td>77.0</td>\n",
       "      <td>서울</td>\n",
       "      <td>50.0</td>\n",
       "      <td>1</td>\n",
       "      <td>NaN</td>\n",
       "      <td>ENTJ</td>\n",
       "      <td>67.886373</td>\n",
       "    </tr>\n",
       "  </tbody>\n",
       "</table>\n",
       "</div>"
      ],
      "text/plain": [
       "      id   age city    f1  f2   f3    f4         f5\n",
       "64  id65  26.5   경기   NaN   0  NaN  ISFP  91.297791\n",
       "91  id92  97.0   경기  78.0   1  NaN  INFP  97.381034\n",
       "42  id43  23.0   대구  60.0   0  NaN  ISTP  29.269869\n",
       "52  id53  52.0   대구  50.0   0  NaN  ESTP  20.129444\n",
       "13  id14  77.0   서울  50.0   1  NaN  ENTJ  67.886373"
      ]
     },
     "execution_count": 21,
     "metadata": {},
     "output_type": "execute_result"
    }
   ],
   "source": [
    "data__70 = df.sample(frac = 0.7, random_state = 2022)\n",
    "data__30 = df.drop(data__70.index)\n",
    "\n",
    "data__70.tail()"
   ]
  },
  {
   "cell_type": "code",
   "execution_count": 22,
   "metadata": {},
   "outputs": [
    {
     "data": {
      "text/html": [
       "<div>\n",
       "<style scoped>\n",
       "    .dataframe tbody tr th:only-of-type {\n",
       "        vertical-align: middle;\n",
       "    }\n",
       "\n",
       "    .dataframe tbody tr th {\n",
       "        vertical-align: top;\n",
       "    }\n",
       "\n",
       "    .dataframe thead th {\n",
       "        text-align: right;\n",
       "    }\n",
       "</style>\n",
       "<table border=\"1\" class=\"dataframe\">\n",
       "  <thead>\n",
       "    <tr style=\"text-align: right;\">\n",
       "      <th></th>\n",
       "      <th>id</th>\n",
       "      <th>age</th>\n",
       "      <th>city</th>\n",
       "      <th>f1</th>\n",
       "      <th>f2</th>\n",
       "      <th>f3</th>\n",
       "      <th>f4</th>\n",
       "      <th>f5</th>\n",
       "    </tr>\n",
       "  </thead>\n",
       "  <tbody>\n",
       "    <tr>\n",
       "      <th>87</th>\n",
       "      <td>id88</td>\n",
       "      <td>89.0</td>\n",
       "      <td>경기</td>\n",
       "      <td>75.0</td>\n",
       "      <td>0</td>\n",
       "      <td>NaN</td>\n",
       "      <td>ESTJ</td>\n",
       "      <td>60.339826</td>\n",
       "    </tr>\n",
       "    <tr>\n",
       "      <th>88</th>\n",
       "      <td>id89</td>\n",
       "      <td>34.0</td>\n",
       "      <td>경기</td>\n",
       "      <td>66.0</td>\n",
       "      <td>1</td>\n",
       "      <td>NaN</td>\n",
       "      <td>ENTJ</td>\n",
       "      <td>33.308999</td>\n",
       "    </tr>\n",
       "    <tr>\n",
       "      <th>92</th>\n",
       "      <td>id93</td>\n",
       "      <td>21.8</td>\n",
       "      <td>경기</td>\n",
       "      <td>57.0</td>\n",
       "      <td>0</td>\n",
       "      <td>NaN</td>\n",
       "      <td>ISFP</td>\n",
       "      <td>73.586397</td>\n",
       "    </tr>\n",
       "    <tr>\n",
       "      <th>98</th>\n",
       "      <td>id99</td>\n",
       "      <td>1.0</td>\n",
       "      <td>경기</td>\n",
       "      <td>47.0</td>\n",
       "      <td>0</td>\n",
       "      <td>NaN</td>\n",
       "      <td>ESFJ</td>\n",
       "      <td>97.381034</td>\n",
       "    </tr>\n",
       "    <tr>\n",
       "      <th>99</th>\n",
       "      <td>id100</td>\n",
       "      <td>47.0</td>\n",
       "      <td>경기</td>\n",
       "      <td>53.0</td>\n",
       "      <td>0</td>\n",
       "      <td>vip</td>\n",
       "      <td>ESFP</td>\n",
       "      <td>33.308999</td>\n",
       "    </tr>\n",
       "  </tbody>\n",
       "</table>\n",
       "</div>"
      ],
      "text/plain": [
       "       id   age city    f1  f2   f3    f4         f5\n",
       "87   id88  89.0   경기  75.0   0  NaN  ESTJ  60.339826\n",
       "88   id89  34.0   경기  66.0   1  NaN  ENTJ  33.308999\n",
       "92   id93  21.8   경기  57.0   0  NaN  ISFP  73.586397\n",
       "98   id99   1.0   경기  47.0   0  NaN  ESFJ  97.381034\n",
       "99  id100  47.0   경기  53.0   0  vip  ESFP  33.308999"
      ]
     },
     "execution_count": 22,
     "metadata": {},
     "output_type": "execute_result"
    }
   ],
   "source": [
    "data__30.tail()"
   ]
  },
  {
   "cell_type": "code",
   "execution_count": 23,
   "metadata": {
    "scrolled": true
   },
   "outputs": [
    {
     "data": {
      "text/plain": [
       "100"
      ]
     },
     "execution_count": 23,
     "metadata": {},
     "output_type": "execute_result"
    }
   ],
   "source": [
    "len(data__70) + len(data__30)"
   ]
  },
  {
   "cell_type": "markdown",
   "metadata": {},
   "source": [
    "## (2) 'f1'컬럼 결측치를 중앙값으로 채우기 전후의 표준편차 구하기"
   ]
  },
  {
   "cell_type": "code",
   "execution_count": 8,
   "metadata": {
    "execution": {
     "iopub.execute_input": "2021-11-03T04:25:15.367478Z",
     "iopub.status.busy": "2021-11-03T04:25:15.366792Z",
     "iopub.status.idle": "2021-11-03T04:25:15.374573Z",
     "shell.execute_reply": "2021-11-03T04:25:15.374963Z",
     "shell.execute_reply.started": "2021-11-03T04:24:05.766976Z"
    },
    "papermill": {
     "duration": 0.027202,
     "end_time": "2021-11-03T04:25:15.375090",
     "exception": false,
     "start_time": "2021-11-03T04:25:15.347888",
     "status": "completed"
    },
    "scrolled": true,
    "tags": []
   },
   "outputs": [
    {
     "data": {
      "text/plain": [
       "id       0\n",
       "age      0\n",
       "city     0\n",
       "f1      23\n",
       "f2       0\n",
       "f3      67\n",
       "f4       0\n",
       "f5       0\n",
       "dtype: int64"
      ]
     },
     "execution_count": 8,
     "metadata": {},
     "output_type": "execute_result"
    }
   ],
   "source": [
    "## 결측치 확인\n",
    "data70.isnull().sum()"
   ]
  },
  {
   "cell_type": "code",
   "execution_count": 26,
   "metadata": {},
   "outputs": [
    {
     "data": {
      "text/plain": [
       "<AxesSubplot:>"
      ]
     },
     "execution_count": 26,
     "metadata": {},
     "output_type": "execute_result"
    },
    {
     "data": {
      "image/png": "[encoded data removed]",
      "text/plain": [
       "<Figure size 576x576 with 2 Axes>"
      ]
     },
     "metadata": {
      "needs_background": "light"
     },
     "output_type": "display_data"
    }
   ],
   "source": [
    "msno.matrix(df=data70.iloc[:,:], figsize=(8, 8), color=(0.8, 0.5, 0.2))"
   ]
  },
  {
   "cell_type": "code",
   "execution_count": 27,
   "metadata": {
    "scrolled": true
   },
   "outputs": [
    {
     "name": "stdout",
     "output_type": "stream",
     "text": [
      "column:     id    \t Percent of NaN value: 0.00\n",
      "column:    age    \t Percent of NaN value: 0.00\n",
      "column:    city   \t Percent of NaN value: 0.00\n",
      "column:     f1    \t Percent of NaN value: 32.86\n",
      "column:     f2    \t Percent of NaN value: 0.00\n",
      "column:     f3    \t Percent of NaN value: 95.71\n",
      "column:     f4    \t Percent of NaN value: 0.00\n",
      "column:     f5    \t Percent of NaN value: 0.00\n"
     ]
    }
   ],
   "source": [
    "for col in df.columns:\n",
    "    msg = 'column: {:^10}\\t Percent of NaN value: {:.2f}'.format(col, 100 * (data70[col].isnull().sum() / len(data70[col])))\n",
    "    print(msg)"
   ]
  },
  {
   "cell_type": "markdown",
   "metadata": {},
   "source": [
    "- f1의 결측치 : 32.86%"
   ]
  },
  {
   "cell_type": "code",
   "execution_count": 28,
   "metadata": {
    "execution": {
     "iopub.execute_input": "2021-11-03T04:25:15.410310Z",
     "iopub.status.busy": "2021-11-03T04:25:15.409874Z",
     "iopub.status.idle": "2021-11-03T04:25:15.414833Z",
     "shell.execute_reply": "2021-11-03T04:25:15.415191Z",
     "shell.execute_reply.started": "2021-11-03T04:24:18.984395Z"
    },
    "papermill": {
     "duration": 0.024205,
     "end_time": "2021-11-03T04:25:15.415313",
     "exception": false,
     "start_time": "2021-11-03T04:25:15.391108",
     "status": "completed"
    },
    "tags": []
   },
   "outputs": [
    {
     "data": {
      "text/plain": [
       "17.98727579865276"
      ]
     },
     "execution_count": 28,
     "metadata": {},
     "output_type": "execute_result"
    }
   ],
   "source": [
    "## 결측치 채우기 전 f1컬럼 표준편자\n",
    "std1 = data70['f1'].std()\n",
    "std1"
   ]
  },
  {
   "cell_type": "code",
   "execution_count": 29,
   "metadata": {
    "execution": {
     "iopub.execute_input": "2021-11-03T04:25:15.450433Z",
     "iopub.status.busy": "2021-11-03T04:25:15.449808Z",
     "iopub.status.idle": "2021-11-03T04:25:15.454858Z",
     "shell.execute_reply": "2021-11-03T04:25:15.455273Z",
     "shell.execute_reply.started": "2021-11-03T04:24:20.270365Z"
    },
    "papermill": {
     "duration": 0.024098,
     "end_time": "2021-11-03T04:25:15.455410",
     "exception": false,
     "start_time": "2021-11-03T04:25:15.431312",
     "status": "completed"
    },
    "scrolled": true,
    "tags": []
   },
   "outputs": [
    {
     "data": {
      "text/plain": [
       "68.0"
      ]
     },
     "execution_count": 29,
     "metadata": {},
     "output_type": "execute_result"
    }
   ],
   "source": [
    "## 중앙값 확인\n",
    "med=data70['f1'].median()\n",
    "med"
   ]
  },
  {
   "cell_type": "markdown",
   "metadata": {},
   "source": [
    "### 결측치를 중앙값으로 대체하기"
   ]
  },
  {
   "cell_type": "markdown",
   "metadata": {},
   "source": [
    "- 결측값을 특정 값으로 채우기 : df.fillna(value) "
   ]
  },
  {
   "cell_type": "code",
   "execution_count": 31,
   "metadata": {
    "execution": {
     "iopub.execute_input": "2021-11-03T04:25:15.492016Z",
     "iopub.status.busy": "2021-11-03T04:25:15.491368Z",
     "iopub.status.idle": "2021-11-03T04:25:15.500135Z",
     "shell.execute_reply": "2021-11-03T04:25:15.500700Z",
     "shell.execute_reply.started": "2021-11-03T04:24:23.310735Z"
    },
    "papermill": {
     "duration": 0.028909,
     "end_time": "2021-11-03T04:25:15.500889",
     "exception": false,
     "start_time": "2021-11-03T04:25:15.471980",
     "status": "completed"
    },
    "scrolled": true,
    "tags": []
   },
   "outputs": [],
   "source": [
    "data70['f1'] = data70['f1'].fillna(med)\n",
    "# or data70['f1'] = data70['f1'].fillna(data70['f1'].median())"
   ]
  },
  {
   "cell_type": "code",
   "execution_count": 32,
   "metadata": {},
   "outputs": [],
   "source": [
    "## 다른 방법들\n",
    "# data70['f1']= data70['f1'].replace(np.nan, med)\n",
    "# data70 = data70.fillna(value=med)"
   ]
  },
  {
   "cell_type": "code",
   "execution_count": 33,
   "metadata": {
    "execution": {
     "iopub.execute_input": "2021-11-03T04:25:15.539180Z",
     "iopub.status.busy": "2021-11-03T04:25:15.538528Z",
     "iopub.status.idle": "2021-11-03T04:25:15.547512Z",
     "shell.execute_reply": "2021-11-03T04:25:15.547049Z",
     "shell.execute_reply.started": "2021-11-03T04:24:25.720154Z"
    },
    "papermill": {
     "duration": 0.029063,
     "end_time": "2021-11-03T04:25:15.547624",
     "exception": false,
     "start_time": "2021-11-03T04:25:15.518561",
     "status": "completed"
    },
    "tags": []
   },
   "outputs": [
    {
     "data": {
      "text/plain": [
       "id       0\n",
       "age      0\n",
       "city     0\n",
       "f1       0\n",
       "f2       0\n",
       "f3      67\n",
       "f4       0\n",
       "f5       0\n",
       "dtype: int64"
      ]
     },
     "execution_count": 33,
     "metadata": {},
     "output_type": "execute_result"
    }
   ],
   "source": [
    "## 결측치 확인\n",
    "data70.isnull().sum()"
   ]
  },
  {
   "cell_type": "code",
   "execution_count": 34,
   "metadata": {
    "execution": {
     "iopub.execute_input": "2021-11-03T04:25:15.585945Z",
     "iopub.status.busy": "2021-11-03T04:25:15.585431Z",
     "iopub.status.idle": "2021-11-03T04:25:15.591527Z",
     "shell.execute_reply": "2021-11-03T04:25:15.591989Z",
     "shell.execute_reply.started": "2021-11-03T04:24:35.697820Z"
    },
    "papermill": {
     "duration": 0.026887,
     "end_time": "2021-11-03T04:25:15.592129",
     "exception": false,
     "start_time": "2021-11-03T04:25:15.565242",
     "status": "completed"
    },
    "tags": []
   },
   "outputs": [
    {
     "data": {
      "text/plain": [
       "14.690773995256688"
      ]
     },
     "execution_count": 34,
     "metadata": {},
     "output_type": "execute_result"
    }
   ],
   "source": [
    "## 결측치를 채운 후 표준편차 구하기\n",
    "std2 = data70['f1'].std()\n",
    "std2"
   ]
  },
  {
   "cell_type": "code",
   "execution_count": 35,
   "metadata": {
    "execution": {
     "iopub.execute_input": "2021-11-03T04:25:15.633866Z",
     "iopub.status.busy": "2021-11-03T04:25:15.633376Z",
     "iopub.status.idle": "2021-11-03T04:25:15.635225Z",
     "shell.execute_reply": "2021-11-03T04:25:15.635619Z",
     "shell.execute_reply.started": "2021-11-03T04:24:49.545181Z"
    },
    "papermill": {
     "duration": 0.024939,
     "end_time": "2021-11-03T04:25:15.635748",
     "exception": false,
     "start_time": "2021-11-03T04:25:15.610809",
     "status": "completed"
    },
    "tags": []
   },
   "outputs": [
    {
     "name": "stdout",
     "output_type": "stream",
     "text": [
      "3.2965018033960725\n"
     ]
    }
   ],
   "source": [
    "print(std1-std2)"
   ]
  },
  {
   "cell_type": "markdown",
   "metadata": {
    "papermill": {
     "duration": 0.017084,
     "end_time": "2021-11-03T04:25:15.670575",
     "exception": false,
     "start_time": "2021-11-03T04:25:15.653491",
     "status": "completed"
    },
    "tags": []
   },
   "source": [
    "## 문제3\n",
    "- 데이터셋(basic1.csv)의 'age'컬럼의 이상치를 더하시오!\n",
    "- 단, 평균으로부터 '표준편차*1.5'를 벗어나는 영역을 이상치라고 판단함"
   ]
  },
  {
   "cell_type": "code",
   "execution_count": 36,
   "metadata": {
    "execution": {
     "iopub.execute_input": "2021-11-03T04:25:15.708677Z",
     "iopub.status.busy": "2021-11-03T04:25:15.708154Z",
     "iopub.status.idle": "2021-11-03T04:25:15.715541Z",
     "shell.execute_reply": "2021-11-03T04:25:15.715916Z",
     "shell.execute_reply.started": "2021-11-03T04:24:51.630245Z"
    },
    "papermill": {
     "duration": 0.028046,
     "end_time": "2021-11-03T04:25:15.716058",
     "exception": false,
     "start_time": "2021-11-03T04:25:15.688012",
     "status": "completed"
    },
    "tags": []
   },
   "outputs": [],
   "source": [
    "# 라이브러리 및 데이터 불러오기\n",
    "import pandas as pd\n",
    "import numpy as np\n",
    "\n",
    "df = pd.read_csv(\"C:/Users/1/Dropbox/work/kaggle/빅데이터_분석기사/archive/basic1.csv\")"
   ]
  },
  {
   "cell_type": "code",
   "execution_count": 38,
   "metadata": {
    "execution": {
     "iopub.execute_input": "2021-11-03T04:25:15.756157Z",
     "iopub.status.busy": "2021-11-03T04:25:15.755668Z",
     "iopub.status.idle": "2021-11-03T04:25:15.760635Z",
     "shell.execute_reply": "2021-11-03T04:25:15.761158Z",
     "shell.execute_reply.started": "2021-11-03T04:24:51.777733Z"
    },
    "papermill": {
     "duration": 0.027529,
     "end_time": "2021-11-03T04:25:15.761348",
     "exception": false,
     "start_time": "2021-11-03T04:25:15.733819",
     "status": "completed"
    },
    "scrolled": true,
    "tags": []
   },
   "outputs": [
    {
     "name": "stdout",
     "output_type": "stream",
     "text": [
      "45.43524342126936 50.963\n"
     ]
    }
   ],
   "source": [
    "std = np.std(df['age']) * 1.5\n",
    "mean = df['age'].mean()\n",
    "print(std, mean)"
   ]
  },
  {
   "cell_type": "code",
   "execution_count": 39,
   "metadata": {},
   "outputs": [
    {
     "name": "stdout",
     "output_type": "stream",
     "text": [
      "5.527756578730639 96.39824342126937\n"
     ]
    }
   ],
   "source": [
    "min_out = mean - std\n",
    "max_out = mean + std\n",
    "print(min_out, max_out)"
   ]
  },
  {
   "cell_type": "code",
   "execution_count": 17,
   "metadata": {
    "execution": {
     "iopub.execute_input": "2021-11-03T04:25:15.808373Z",
     "iopub.status.busy": "2021-11-03T04:25:15.807888Z",
     "iopub.status.idle": "2021-11-03T04:25:15.810784Z",
     "shell.execute_reply": "2021-11-03T04:25:15.811342Z",
     "shell.execute_reply.started": "2021-11-03T04:24:51.920639Z"
    },
    "papermill": {
     "duration": 0.029788,
     "end_time": "2021-11-03T04:25:15.811531",
     "exception": false,
     "start_time": "2021-11-03T04:25:15.781743",
     "status": "completed"
    },
    "tags": []
   },
   "outputs": [
    {
     "data": {
      "text/plain": [
       "473.5"
      ]
     },
     "execution_count": 17,
     "metadata": {},
     "output_type": "execute_result"
    }
   ],
   "source": [
    "# 이상치 age합\n",
    "df[(df['age']>max_out) | (df['age']<min_out)]['age'].sum()\n",
    "\n",
    "# 다른 방법\n",
    "# df.loc[(df['age'] > max)]['age'].sum() + df.loc[(df['age']< min)]['age'].sum()"
   ]
  },
  {
   "cell_type": "code",
   "execution_count": 40,
   "metadata": {},
   "outputs": [
    {
     "data": {
      "text/plain": [
       "473.5"
      ]
     },
     "execution_count": 40,
     "metadata": {},
     "output_type": "execute_result"
    }
   ],
   "source": [
    "# 다른 방법\n",
    "condition = (df['age']>max_out) | (df['age']<min_out)\n",
    "df[condition]['age'].sum()"
   ]
  }
 ],
 "metadata": {
  "kernelspec": {
   "display_name": "Python 3",
   "language": "python",
   "name": "python3"
  },
  "language_info": {
   "codemirror_mode": {
    "name": "ipython",
    "version": 3
   },
   "file_extension": ".py",
   "mimetype": "text/x-python",
   "name": "python",
   "nbconvert_exporter": "python",
   "pygments_lexer": "ipython3",
   "version": "3.8.5"
  },
  "papermill": {
   "default_parameters": {},
   "duration": 8.52132,
   "end_time": "2021-11-03T04:25:16.337859",
   "environment_variables": {},
   "exception": null,
   "input_path": "__notebook__.ipynb",
   "output_path": "__notebook__.ipynb",
   "parameters": {},
   "start_time": "2021-11-03T04:25:07.816539",
   "version": "2.3.3"
  }
 },
 "nbformat": 4,
 "nbformat_minor": 5
}

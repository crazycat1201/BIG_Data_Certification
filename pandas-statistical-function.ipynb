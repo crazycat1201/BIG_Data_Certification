{
 "cells": [
  {
   "cell_type": "markdown",
   "metadata": {
    "papermill": {
     "duration": 0.011902,
     "end_time": "2021-11-26T00:35:17.640026",
     "exception": false,
     "start_time": "2021-11-26T00:35:17.628124",
     "status": "completed"
    },
    "tags": []
   },
   "source": [
    "## 판다스 통계 함수\n",
    "Pandas Statistical Function"
   ]
  },
  {
   "cell_type": "code",
   "execution_count": 4,
   "metadata": {
    "execution": {
     "iopub.execute_input": "2021-11-26T00:35:17.673544Z",
     "iopub.status.busy": "2021-11-26T00:35:17.672890Z",
     "iopub.status.idle": "2021-11-26T00:35:17.674628Z",
     "shell.execute_reply": "2021-11-26T00:35:17.675218Z",
     "shell.execute_reply.started": "2021-11-26T00:33:47.081223Z"
    },
    "papermill": {
     "duration": 0.023624,
     "end_time": "2021-11-26T00:35:17.675503",
     "exception": false,
     "start_time": "2021-11-26T00:35:17.651879",
     "status": "completed"
    },
    "tags": []
   },
   "outputs": [],
   "source": [
    "import pandas as pd\n",
    "import missingno as msno # 결측치 관련 라이브러리"
   ]
  },
  {
   "cell_type": "code",
   "execution_count": 3,
   "metadata": {
    "execution": {
     "iopub.execute_input": "2021-11-26T00:35:17.698289Z",
     "iopub.status.busy": "2021-11-26T00:35:17.697678Z",
     "iopub.status.idle": "2021-11-26T00:35:17.754133Z",
     "shell.execute_reply": "2021-11-26T00:35:17.753415Z",
     "shell.execute_reply.started": "2021-11-26T00:33:47.087862Z"
    },
    "papermill": {
     "duration": 0.068757,
     "end_time": "2021-11-26T00:35:17.754271",
     "exception": false,
     "start_time": "2021-11-26T00:35:17.685514",
     "status": "completed"
    },
    "scrolled": true,
    "tags": []
   },
   "outputs": [
    {
     "data": {
      "text/html": [
       "<div>\n",
       "<style scoped>\n",
       "    .dataframe tbody tr th:only-of-type {\n",
       "        vertical-align: middle;\n",
       "    }\n",
       "\n",
       "    .dataframe tbody tr th {\n",
       "        vertical-align: top;\n",
       "    }\n",
       "\n",
       "    .dataframe thead th {\n",
       "        text-align: right;\n",
       "    }\n",
       "</style>\n",
       "<table border=\"1\" class=\"dataframe\">\n",
       "  <thead>\n",
       "    <tr style=\"text-align: right;\">\n",
       "      <th></th>\n",
       "      <th>id</th>\n",
       "      <th>age</th>\n",
       "      <th>city</th>\n",
       "      <th>f1</th>\n",
       "      <th>f2</th>\n",
       "      <th>f3</th>\n",
       "      <th>f4</th>\n",
       "      <th>f5</th>\n",
       "    </tr>\n",
       "  </thead>\n",
       "  <tbody>\n",
       "    <tr>\n",
       "      <th>0</th>\n",
       "      <td>id01</td>\n",
       "      <td>2.0</td>\n",
       "      <td>서울</td>\n",
       "      <td>NaN</td>\n",
       "      <td>0</td>\n",
       "      <td>NaN</td>\n",
       "      <td>ENFJ</td>\n",
       "      <td>91.297791</td>\n",
       "    </tr>\n",
       "    <tr>\n",
       "      <th>1</th>\n",
       "      <td>id02</td>\n",
       "      <td>9.0</td>\n",
       "      <td>서울</td>\n",
       "      <td>70.0</td>\n",
       "      <td>1</td>\n",
       "      <td>NaN</td>\n",
       "      <td>ENFJ</td>\n",
       "      <td>60.339826</td>\n",
       "    </tr>\n",
       "    <tr>\n",
       "      <th>2</th>\n",
       "      <td>id03</td>\n",
       "      <td>27.0</td>\n",
       "      <td>서울</td>\n",
       "      <td>61.0</td>\n",
       "      <td>1</td>\n",
       "      <td>NaN</td>\n",
       "      <td>ISTJ</td>\n",
       "      <td>17.252986</td>\n",
       "    </tr>\n",
       "  </tbody>\n",
       "</table>\n",
       "</div>"
      ],
      "text/plain": [
       "     id   age city    f1  f2   f3    f4         f5\n",
       "0  id01   2.0   서울   NaN   0  NaN  ENFJ  91.297791\n",
       "1  id02   9.0   서울  70.0   1  NaN  ENFJ  60.339826\n",
       "2  id03  27.0   서울  61.0   1  NaN  ISTJ  17.252986"
      ]
     },
     "execution_count": 3,
     "metadata": {},
     "output_type": "execute_result"
    }
   ],
   "source": [
    "df = pd.read_csv(\"C:/Users/1/Dropbox/work/kaggle/빅데이터_분석기사/archive/basic1.csv\")\n",
    "df.head(3)"
   ]
  },
  {
   "cell_type": "code",
   "execution_count": 8,
   "metadata": {
    "scrolled": true
   },
   "outputs": [
    {
     "name": "stdout",
     "output_type": "stream",
     "text": [
      "<class 'pandas.core.frame.DataFrame'>\n",
      "RangeIndex: 100 entries, 0 to 99\n",
      "Data columns (total 8 columns):\n",
      " #   Column  Non-Null Count  Dtype  \n",
      "---  ------  --------------  -----  \n",
      " 0   id      100 non-null    object \n",
      " 1   age     100 non-null    float64\n",
      " 2   city    100 non-null    object \n",
      " 3   f1      69 non-null     float64\n",
      " 4   f2      100 non-null    int64  \n",
      " 5   f3      5 non-null      object \n",
      " 6   f4      100 non-null    object \n",
      " 7   f5      100 non-null    float64\n",
      "dtypes: float64(3), int64(1), object(4)\n",
      "memory usage: 6.4+ KB\n"
     ]
    }
   ],
   "source": [
    "df.info()"
   ]
  },
  {
   "cell_type": "code",
   "execution_count": 3,
   "metadata": {
    "execution": {
     "iopub.execute_input": "2021-11-26T00:35:17.785875Z",
     "iopub.status.busy": "2021-11-26T00:35:17.785030Z",
     "iopub.status.idle": "2021-11-26T00:35:17.788857Z",
     "shell.execute_reply": "2021-11-26T00:35:17.788245Z",
     "shell.execute_reply.started": "2021-11-26T00:33:47.126222Z"
    },
    "papermill": {
     "duration": 0.021714,
     "end_time": "2021-11-26T00:35:17.788998",
     "exception": false,
     "start_time": "2021-11-26T00:35:17.767284",
     "status": "completed"
    },
    "tags": []
   },
   "outputs": [
    {
     "data": {
      "text/plain": [
       "id       0\n",
       "age      0\n",
       "city     0\n",
       "f1      31\n",
       "f2       0\n",
       "f3      95\n",
       "f4       0\n",
       "f5       0\n",
       "dtype: int64"
      ]
     },
     "execution_count": 3,
     "metadata": {},
     "output_type": "execute_result"
    }
   ],
   "source": [
    "#f1은 결측치가 있고, f5는 결측치가 없는 상태임\n",
    "df.isnull().sum()"
   ]
  },
  {
   "cell_type": "code",
   "execution_count": 5,
   "metadata": {
    "scrolled": false
   },
   "outputs": [
    {
     "data": {
      "text/plain": [
       "<AxesSubplot:>"
      ]
     },
     "execution_count": 5,
     "metadata": {},
     "output_type": "execute_result"
    },
    {
     "data": {
      "image/png": "[encoded data removed]",
      "text/plain": [
       "<Figure size 576x576 with 2 Axes>"
      ]
     },
     "metadata": {
      "needs_background": "light"
     },
     "output_type": "display_data"
    }
   ],
   "source": [
    "msno.matrix(df=df.iloc[:,:], figsize=(8, 8), color=(0.8, 0.5, 0.2))"
   ]
  },
  {
   "cell_type": "code",
   "execution_count": 6,
   "metadata": {},
   "outputs": [
    {
     "name": "stdout",
     "output_type": "stream",
     "text": [
      "column:     id    \t Percent of NaN value: 0.00\n",
      "column:    age    \t Percent of NaN value: 0.00\n",
      "column:    city   \t Percent of NaN value: 0.00\n",
      "column:     f1    \t Percent of NaN value: 31.00\n",
      "column:     f2    \t Percent of NaN value: 0.00\n",
      "column:     f3    \t Percent of NaN value: 95.00\n",
      "column:     f4    \t Percent of NaN value: 0.00\n",
      "column:     f5    \t Percent of NaN value: 0.00\n"
     ]
    }
   ],
   "source": [
    "for col in df.columns:\n",
    "    msg = 'column: {:^10}\\t Percent of NaN value: {:.2f}'.format(col, 100 * (df[col].isnull().sum() / len(df[col])))\n",
    "    print(msg)"
   ]
  },
  {
   "cell_type": "markdown",
   "metadata": {
    "papermill": {
     "duration": 0.010447,
     "end_time": "2021-11-26T00:35:17.810325",
     "exception": false,
     "start_time": "2021-11-26T00:35:17.799878",
     "status": "completed"
    },
    "tags": []
   },
   "source": [
    "## 판다스 통계 함수1 (가장 빈번히 사용되는 함수)\n",
    "- 최대값 .max\n",
    "- 최소값 .min\n",
    "- 평균값 .mean\n",
    "- 중앙값 .median\n",
    "- 최빈값 .mode\n",
    "- 합계 .sum\n",
    "- 데이터 수 .count (결측값 제외됨)"
   ]
  },
  {
   "cell_type": "code",
   "execution_count": 9,
   "metadata": {
    "execution": {
     "iopub.execute_input": "2021-11-26T00:35:17.852871Z",
     "iopub.status.busy": "2021-11-26T00:35:17.851781Z",
     "iopub.status.idle": "2021-11-26T00:35:17.861918Z",
     "shell.execute_reply": "2021-11-26T00:35:17.861382Z",
     "shell.execute_reply.started": "2021-11-26T00:33:47.136566Z"
    },
    "papermill": {
     "duration": 0.041081,
     "end_time": "2021-11-26T00:35:17.862063",
     "exception": false,
     "start_time": "2021-11-26T00:35:17.820982",
     "status": "completed"
    },
    "tags": []
   },
   "outputs": [
    {
     "name": "stdout",
     "output_type": "stream",
     "text": [
      "최대값\n",
      "f1: 111.0\n",
      "f5: 98.42989897\n",
      "\n",
      "\n",
      "최소값\n",
      "f1: 12.0\n",
      "f5: 9.796377581\n",
      "\n",
      "\n",
      "평균값\n",
      "f1: 66.04347826086956\n",
      "f5: 56.73453674492999\n",
      "\n",
      "\n",
      "중앙값\n",
      "f1: 63.0\n",
      "f5: 64.11309937\n",
      "\n",
      "\n",
      "최빈값\n",
      "f1: 50.0\n",
      "f5: 73.58639712\n",
      "\n",
      "\n",
      "합계\n",
      "f1: 4557.0\n",
      "f5: 5673.453674492999\n",
      "\n",
      "\n",
      "카운트\n",
      "f1: 69\n",
      "f5: 100\n",
      "\n",
      "\n"
     ]
    }
   ],
   "source": [
    "print(\"최대값\")\n",
    "print(\"f1:\", df['f1'].max())\n",
    "print(\"f5:\", df['f5'].max())\n",
    "print(\"\\n\")\n",
    "\n",
    "print(\"최소값\")\n",
    "print(\"f1:\", df['f1'].min())\n",
    "print(\"f5:\", df['f5'].min())\n",
    "print(\"\\n\")\n",
    "\n",
    "print(\"평균값\")\n",
    "print(\"f1:\", df['f1'].mean())\n",
    "print(\"f5:\", df['f5'].mean())\n",
    "print(\"\\n\")\n",
    "\n",
    "print(\"중앙값\")\n",
    "print(\"f1:\", df['f1'].median())\n",
    "print(\"f5:\", df['f5'].median())\n",
    "print(\"\\n\")\n",
    "\n",
    "print(\"최빈값\")\n",
    "print(\"f1:\", df['f1'].mode()[0])\n",
    "print(\"f5:\", df['f5'].mode()[0])\n",
    "print(\"\\n\")\n",
    "\n",
    "print(\"합계\")\n",
    "print(\"f1:\", df['f1'].sum())\n",
    "print(\"f5:\", df['f5'].sum())\n",
    "print(\"\\n\")\n",
    "\n",
    "print(\"카운트\")\n",
    "print(\"f1:\", df['f1'].count())\n",
    "print(\"f5:\", df['f5'].count())\n",
    "print(\"\\n\")"
   ]
  },
  {
   "cell_type": "markdown",
   "metadata": {
    "papermill": {
     "duration": 0.010845,
     "end_time": "2021-11-26T00:35:17.884197",
     "exception": false,
     "start_time": "2021-11-26T00:35:17.873352",
     "status": "completed"
    },
    "tags": []
   },
   "source": [
    "## 판다스 통계 함수2\n",
    "- 분위수 .quantile\n",
    "- 분산 .var\n",
    "- 표준편차 .std\n",
    "- 왜도 .skew\n",
    "- 첨도 .kurt"
   ]
  },
  {
   "cell_type": "code",
   "execution_count": 10,
   "metadata": {
    "execution": {
     "iopub.execute_input": "2021-11-26T00:35:17.909650Z",
     "iopub.status.busy": "2021-11-26T00:35:17.908995Z",
     "iopub.status.idle": "2021-11-26T00:35:17.924912Z",
     "shell.execute_reply": "2021-11-26T00:35:17.925480Z",
     "shell.execute_reply.started": "2021-11-26T00:33:47.161550Z"
    },
    "papermill": {
     "duration": 0.030402,
     "end_time": "2021-11-26T00:35:17.925664",
     "exception": false,
     "start_time": "2021-11-26T00:35:17.895262",
     "status": "completed"
    },
    "tags": []
   },
   "outputs": [
    {
     "name": "stdout",
     "output_type": "stream",
     "text": [
      "분위수\n",
      "f1: 51.0\n",
      "f5: 81.02505517\n",
      "\n",
      "\n",
      "분산\n",
      "f1: 378.4539641943735\n",
      "f5: 809.6439862809873\n",
      "\n",
      "\n",
      "표준편차\n",
      "f1: 19.453893291430727\n",
      "f5: 28.454243730610507\n",
      "\n",
      "\n",
      "왜도\n",
      "f1: 0.037113936315631424\n",
      "f5: -0.20279814345182864\n",
      "\n",
      "\n",
      "첨도\n",
      "f1: -0.156446841249545\n",
      "f5: -1.3672055280596613\n",
      "\n",
      "\n"
     ]
    }
   ],
   "source": [
    "print(\"분위수\")\n",
    "print(\"f1:\", df['f1'].quantile(.25))\n",
    "print(\"f5:\", df['f5'].quantile(.75))\n",
    "print(\"\\n\")\n",
    "\n",
    "print(\"분산\")\n",
    "print(\"f1:\", df['f1'].var())\n",
    "print(\"f5:\", df['f5'].var())\n",
    "print(\"\\n\")\n",
    "\n",
    "print(\"표준편차\")\n",
    "print(\"f1:\", df['f1'].std())\n",
    "print(\"f5:\", df['f5'].std())\n",
    "print(\"\\n\")\n",
    "\n",
    "print(\"왜도\")\n",
    "print(\"f1:\", df['f1'].skew())\n",
    "print(\"f5:\", df['f5'].skew())\n",
    "print(\"\\n\")\n",
    "\n",
    "print(\"첨도\")\n",
    "print(\"f1:\", df['f1'].kurt())\n",
    "print(\"f5:\", df['f5'].kurt())\n",
    "print(\"\\n\")"
   ]
  },
  {
   "cell_type": "markdown",
   "metadata": {
    "papermill": {
     "duration": 0.011216,
     "end_time": "2021-11-26T00:35:17.948264",
     "exception": false,
     "start_time": "2021-11-26T00:35:17.937048",
     "status": "completed"
    },
    "tags": []
   },
   "source": [
    "## 판다스 통계 함수3\n",
    "- 누적합 .cumsum\n",
    "- 누적곱 .cumprod\n",
    "- 누적 최대값 .cummax\n",
    "- 누적 최소값 .cummin\n",
    "\n",
    "**[:1]를 붙인 이유는 값을 하나만 출력하기 위함**"
   ]
  },
  {
   "cell_type": "code",
   "execution_count": 11,
   "metadata": {
    "execution": {
     "iopub.execute_input": "2021-11-26T00:35:17.974310Z",
     "iopub.status.busy": "2021-11-26T00:35:17.973655Z",
     "iopub.status.idle": "2021-11-26T00:35:17.992026Z",
     "shell.execute_reply": "2021-11-26T00:35:17.992645Z",
     "shell.execute_reply.started": "2021-11-26T00:33:47.181023Z"
    },
    "papermill": {
     "duration": 0.03302,
     "end_time": "2021-11-26T00:35:17.992814",
     "exception": false,
     "start_time": "2021-11-26T00:35:17.959794",
     "status": "completed"
    },
    "tags": []
   },
   "outputs": [
    {
     "name": "stdout",
     "output_type": "stream",
     "text": [
      "누적합\n",
      "f1: 0   NaN\n",
      "Name: f1, dtype: float64\n",
      "f5: 0    91.297791\n",
      "Name: f5, dtype: float64\n",
      "\n",
      "\n",
      "누적곱\n",
      "f1: 0   NaN\n",
      "Name: f1, dtype: float64\n",
      "f5: 0    91.297791\n",
      "Name: f5, dtype: float64\n",
      "\n",
      "\n",
      "누적 최대값\n",
      "f1: 0   NaN\n",
      "Name: f1, dtype: float64\n",
      "f5: 0    91.297791\n",
      "Name: f5, dtype: float64\n",
      "\n",
      "\n",
      "누적 최소값\n",
      "f1: 0   NaN\n",
      "Name: f1, dtype: float64\n",
      "f5: 0    91.297791\n",
      "Name: f5, dtype: float64\n",
      "\n",
      "\n"
     ]
    }
   ],
   "source": [
    "print(\"누적합\")\n",
    "print(\"f1:\", df['f1'].cumsum()[:1])\n",
    "print(\"f5:\", df['f5'].cumsum()[:1])\n",
    "print(\"\\n\")\n",
    "\n",
    "print(\"누적곱\")\n",
    "print(\"f1:\", df['f1'].cumprod()[:1])\n",
    "print(\"f5:\", df['f5'].cumprod()[:1])\n",
    "print(\"\\n\")\n",
    "\n",
    "print(\"누적 최대값\")\n",
    "print(\"f1:\", df['f1'].cummax()[:1])\n",
    "print(\"f5:\", df['f5'].cummax()[:1])\n",
    "print(\"\\n\")\n",
    "\n",
    "print(\"누적 최소값\")\n",
    "print(\"f1:\", df['f1'].cummin()[:1])\n",
    "print(\"f5:\", df['f5'].cummin()[:1])\n",
    "print(\"\\n\")"
   ]
  },
  {
   "cell_type": "markdown",
   "metadata": {
    "papermill": {
     "duration": 0.011477,
     "end_time": "2021-11-26T00:35:18.016198",
     "exception": false,
     "start_time": "2021-11-26T00:35:18.004721",
     "status": "completed"
    },
    "tags": []
   },
   "source": [
    "## 판다스 통계 함수4\n",
    "\n",
    "- 평균의 표준오차 .sem\n",
    "- 평균 절대편차 .mad\n",
    "- 절대값 .abs\n",
    "- 곱 .prod"
   ]
  },
  {
   "cell_type": "code",
   "execution_count": 12,
   "metadata": {
    "execution": {
     "iopub.execute_input": "2021-11-26T00:35:18.049574Z",
     "iopub.status.busy": "2021-11-26T00:35:18.044261Z",
     "iopub.status.idle": "2021-11-26T00:35:18.065678Z",
     "shell.execute_reply": "2021-11-26T00:35:18.066477Z",
     "shell.execute_reply.started": "2021-11-26T00:33:47.204574Z"
    },
    "papermill": {
     "duration": 0.038745,
     "end_time": "2021-11-26T00:35:18.066752",
     "exception": false,
     "start_time": "2021-11-26T00:35:18.028007",
     "status": "completed"
    },
    "tags": []
   },
   "outputs": [
    {
     "name": "stdout",
     "output_type": "stream",
     "text": [
      "평균의 표준오차\n",
      "f1: 2.3419735397284107\n",
      "f5: 2.845424373061051\n",
      "\n",
      "\n",
      "평균 절대편차\n",
      "f1: 15.959672337744164\n",
      "f5: 25.292609851777\n",
      "\n",
      "\n",
      "절대값\n",
      "f1: 0      NaN\n",
      "1     70.0\n",
      "2     61.0\n",
      "3      NaN\n",
      "4     85.0\n",
      "      ... \n",
      "95    53.0\n",
      "96     NaN\n",
      "97    58.0\n",
      "98    47.0\n",
      "99    53.0\n",
      "Name: f1, Length: 100, dtype: float64\n",
      "f5: 0     91.297791\n",
      "1     60.339826\n",
      "2     17.252986\n",
      "3     52.667078\n",
      "4     29.269869\n",
      "        ...    \n",
      "95    52.667078\n",
      "96    67.886373\n",
      "97    98.429899\n",
      "98    97.381034\n",
      "99    33.308999\n",
      "Name: f5, Length: 100, dtype: float64\n",
      "\n",
      "\n",
      "곱\n",
      "f1: 1.0861641527949942e+124\n",
      "f5: 3.691687542331407e+167\n",
      "\n",
      "\n"
     ]
    }
   ],
   "source": [
    "print(\"평균의 표준오차\")\n",
    "print(\"f1:\", df['f1'].sem())\n",
    "print(\"f5:\", df['f5'].sem())\n",
    "print(\"\\n\")\n",
    "\n",
    "print(\"평균 절대편차\") # mean absolute deviation\n",
    "print(\"f1:\", df['f1'].mad())\n",
    "print(\"f5:\", df['f5'].mad())\n",
    "print(\"\\n\")\n",
    "\n",
    "print(\"절대값\")\n",
    "print(\"f1:\", df['f1'].abs())\n",
    "print(\"f5:\", df['f5'].abs())\n",
    "print(\"\\n\")\n",
    "\n",
    "print(\"곱\") #해당되는 열 곱\n",
    "print(\"f1:\", df['f1'].prod()) \n",
    "print(\"f5:\", df['f5'].prod()) \n",
    "print(\"\\n\")"
   ]
  }
 ],
 "metadata": {
  "kernelspec": {
   "display_name": "Python 3",
   "language": "python",
   "name": "python3"
  },
  "language_info": {
   "codemirror_mode": {
    "name": "ipython",
    "version": 3
   },
   "file_extension": ".py",
   "mimetype": "text/x-python",
   "name": "python",
   "nbconvert_exporter": "python",
   "pygments_lexer": "ipython3",
   "version": "3.8.5"
  },
  "papermill": {
   "default_parameters": {},
   "duration": 10.057042,
   "end_time": "2021-11-26T00:35:18.724350",
   "environment_variables": {},
   "exception": null,
   "input_path": "__notebook__.ipynb",
   "output_path": "__notebook__.ipynb",
   "parameters": {},
   "start_time": "2021-11-26T00:35:08.667308",
   "version": "2.3.3"
  }
 },
 "nbformat": 4,
 "nbformat_minor": 5
}
